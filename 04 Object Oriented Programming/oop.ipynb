{
 "cells": [
  {
   "cell_type": "markdown",
   "id": "071d2a32-d06b-40e2-983a-b24ecda3802d",
   "metadata": {},
   "source": [
    "\n",
    "# Mastering Python OOP: A Comprehensive Guide\n",
    "\n",
    "## Introduction\n",
    "- Brief overview of Object-Oriented Programming (OOP).\n",
    "- Significance of OOP in software development.\n",
    "- Key principles of OOP: encapsulation, inheritance, and polymorphism.\n",
    "\n",
    "## Table of Contents\n",
    "1. **Foundations of OOP**\n",
    "   - Definition of OOP.\n",
    "   - Advantages of OOP over procedural programming.\n",
    "   - Basic concepts: classes and objects.\n",
    "\n",
    "2. **Classes and Objects in Python**\n",
    "   - Syntax for defining a class in Python.\n",
    "   - Creating instances (objects) of a class.\n",
    "   - Accessing attributes and methods.\n",
    "\n",
    "3. **Attributes and Methods in Classes**\n",
    "   - Understanding attributes (instance variables and class variables).\n",
    "   - Defining methods inside a class.\n",
    "   - Use of the `self` parameter.\n",
    "\n",
    "4. **Constructors and Destructors**\n",
    "   - The `__init__` method (constructor) for object initialization.\n",
    "   - The `__del__` method (destructor) and its usage.\n",
    "   - Importance of proper resource management.\n",
    "\n",
    "5. **Inheritance in Python**\n",
    "   - Creating a hierarchy of classes using inheritance.\n",
    "   - The `super()` function for calling methods from the parent class.\n",
    "   - Overriding methods for customization.\n",
    "\n",
    "6. **Polymorphism in Python**\n",
    "   - Understanding polymorphism.\n",
    "   - Method overloading and method overriding.\n",
    "   - Achieving polymorphic behavior.\n",
    "\n",
    "7. **Encapsulation in Python**\n",
    "   - Encapsulation as a fundamental OOP principle.\n",
    "   - Public, private, and protected access modifiers.\n",
    "   - Using getter and setter methods for controlled access.\n",
    "\n",
    "8. **Abstract Classes and Interfaces**\n",
    "   - Introduction to abstract classes.\n",
    "   - Defining abstract methods using the `ABC` module.\n",
    "   - Implementing interfaces for code structure.\n",
    "\n",
    "9. **Static and Class Methods**\n",
    "   - Defining static methods and their use cases.\n",
    "   - Class methods and the `@classmethod` decorator.\n",
    "   - Differences between instance, static, and class methods.\n",
    "\n",
    "10. **Duck Typing and Pythonic OOP**\n",
    "    - Overview of duck typing in Python.\n",
    "    - Writing classes that follow Pythonic principles.\n",
    "    - Leveraging dynamic typing in class design.\n",
    "\n",
    "11. **Special Methods (Magic Methods)**\n",
    "    - Introduction to special methods in Python.\n",
    "    - Commonly used magic methods (e.g., `__str__`, `__len__`).\n",
    "    - Customizing class behavior using magic methods.\n",
    "\n",
    "12. **Decorators in Class Methods**\n",
    "    - Using decorators with class methods.\n",
    "    - Common decorators for class methods.\n",
    "    - Enhancing class functionality with decorators.\n",
    "\n",
    "13. **Real-World Examples and Best Practices**\n",
    "    - Case studies of well-designed Python classes.\n",
    "    - Best practices for class design and organization.\n",
    "    - Tips for writing maintainable and readable class-based code.\n",
    "\n",
    "## Conclusion\n",
    "- Recap of key OOP concepts covered in the blog.\n",
    "- Encouragement for applying OOP principles in Python projects.\n",
    "- Invitation for feedback and questions from readers.\n",
    "\n",
    "By structuring your blog with these topics, you can provide a comprehensive guide to Python Object-Oriented Programming, catering to readers at various skill levels. Feel free to add code examples, visuals, and practical exercises to enhance the learning experience."
   ]
  },
  {
   "cell_type": "code",
   "execution_count": 8,
   "id": "f206a4ca-333a-4ab3-9b0e-ccd051706c43",
   "metadata": {
    "tags": []
   },
   "outputs": [
    {
     "name": "stdout",
     "output_type": "stream",
     "text": [
      "Buddy is a Golden Retriever Dog\n",
      "The Dog makes a bark sound\n",
      "Buddy wags its tail\n",
      "Whiskers is a Gray Cat\n",
      "The Cat makes a meow sound\n",
      "Whiskers purrs softly\n"
     ]
    }
   ],
   "source": [
    "class Animal:\n",
    "    def __init__(self, species, sound):\n",
    "        # Constructor: Initializes object attributes\n",
    "        self.species = species\n",
    "        self.sound = sound\n",
    "\n",
    "    def make_sound(self):\n",
    "        # Method: Performs an action related to the class\n",
    "        print(f\"The {self.species} makes a {self.sound} sound\")\n",
    "\n",
    "\n",
    "class Dog(Animal):\n",
    "    def __init__(self, name, breed):\n",
    "        # Constructor of the derived class, Dog\n",
    "        # It calls the constructor of the base class, Animal, using super()\n",
    "        super().__init__(\"Dog\", \"bark\")\n",
    "        self.name = name\n",
    "        self.breed = breed\n",
    "\n",
    "    def wag_tail(self):\n",
    "        # Additional method specific to the Dog class\n",
    "        print(f\"{self.name} wags its tail\")\n",
    "\n",
    "\n",
    "class Cat(Animal):\n",
    "    def __init__(self, name, color):\n",
    "        # Constructor of the derived class, Cat\n",
    "        # It calls the constructor of the base class, Animal, using super()\n",
    "        super().__init__(\"Cat\", \"meow\")\n",
    "        self.name = name\n",
    "        self.color = color\n",
    "\n",
    "    def purr(self):\n",
    "        # Additional method specific to the Cat class\n",
    "        print(f\"{self.name} purrs softly\")\n",
    "\n",
    "\n",
    "# Creating instances of the classes\n",
    "dog_instance = Dog(\"Buddy\", \"Golden Retriever\")\n",
    "cat_instance = Cat(\"Whiskers\", \"Gray\")\n",
    "\n",
    "# Accessing attributes and calling methods\n",
    "print(f\"{dog_instance.name} is a {dog_instance.breed} {dog_instance.species}\")\n",
    "dog_instance.make_sound()\n",
    "dog_instance.wag_tail()\n",
    "\n",
    "print(f\"{cat_instance.name} is a {cat_instance.color} {cat_instance.species}\")\n",
    "cat_instance.make_sound()\n",
    "cat_instance.purr()\n"
   ]
  },
  {
   "cell_type": "code",
   "execution_count": 3,
   "id": "e5c16167-45ba-474f-9c2b-dff8feb1a22c",
   "metadata": {
    "tags": []
   },
   "outputs": [
    {
     "name": "stdout",
     "output_type": "stream",
     "text": [
      "<class 'str'>\n",
      "<class 'int'>\n",
      "<class 'int'>\n",
      "<class 'int'>\n"
     ]
    }
   ],
   "source": [
    "item1 = 'Phone'\n",
    "item1_price = 100\n",
    "item1_quantity = 5\n",
    "item1_price_total = item1_price * item1_quantity\n",
    "\n",
    "print(type(item1))\n",
    "print(type(item1_price))\n",
    "print(type(item1_quantity))\n",
    "print(type(item1_price_total))"
   ]
  },
  {
   "cell_type": "code",
   "execution_count": 48,
   "id": "7ec68abe-78c2-4ab1-81e8-361471563c96",
   "metadata": {
    "tags": []
   },
   "outputs": [
    {
     "name": "stdout",
     "output_type": "stream",
     "text": [
      "700\n",
      "200\n",
      "<__main__.Item object at 0x000001DB03266FA0>\n"
     ]
    }
   ],
   "source": [
    "class Item:\n",
    "    \n",
    "    def __init__(self, name: str, price: float, quantity=0):\n",
    "        # Run validations to the received argument \n",
    "        assert price >= 0, f\"Price {price} is not greater than zero!\"\n",
    "        assert quantity >= 0, f\"Quantity {quantity} is not greatre or equal to zero!\"\n",
    "        \n",
    "        # Assign to self object\n",
    "        self.name = name\n",
    "        self.price = price\n",
    "        self.quantity = quantity\n",
    "    \n",
    "    def calculate_total_price(self):\n",
    "        return self.price * self.quantity\n",
    "\n",
    "\n",
    "\n",
    "item1 = Item('Phone', 100, 7)\n",
    "item2 = Item('Laptop', 100, 2)\n",
    "\n",
    "\n",
    "print(item1.calculate_total_price())\n",
    "print(item2.calculate_total_price())\n",
    "\n",
    "# print(type(item1))\n",
    "# print(type(item1_price))\n",
    "# print(type(item1_quantity))\n",
    "# print(type(item1_price_total))"
   ]
  },
  {
   "cell_type": "code",
   "execution_count": null,
   "id": "dd1ea8ff-6316-477e-92c1-9a530fd3da5a",
   "metadata": {},
   "outputs": [],
   "source": []
  }
 ],
 "metadata": {
  "kernelspec": {
   "display_name": "Python 3 (ipykernel)",
   "language": "python",
   "name": "python3"
  },
  "language_info": {
   "codemirror_mode": {
    "name": "ipython",
    "version": 3
   },
   "file_extension": ".py",
   "mimetype": "text/x-python",
   "name": "python",
   "nbconvert_exporter": "python",
   "pygments_lexer": "ipython3",
   "version": "3.8.16"
  }
 },
 "nbformat": 4,
 "nbformat_minor": 5
}
