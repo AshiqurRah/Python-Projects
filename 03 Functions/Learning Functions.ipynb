{
 "cells": [
  {
   "cell_type": "markdown",
   "metadata": {},
   "source": [
    "### 1. Introduction to Functions"
   ]
  },
  {
   "cell_type": "markdown",
   "metadata": {},
   "source": [
    "What is a Function?\n",
    "\n",
    "A function is a block of organized, reusable code that is used to perform a single, related action. Functions provide better modularity for your application and a high degree of code reusability."
   ]
  },
  {
   "cell_type": "markdown",
   "metadata": {},
   "source": [
    "Why Use Functions?\n",
    "\n",
    "- Modularity: Functions allow you to break down complex problems into smaller, manageable pieces.\n",
    "- Reusability: Once a function is defined, it can be reused multiple times - \n",
    "throughout your code.\n",
    "- Readability: Functions help make your code more readable and easier to understand."
   ]
  },
  {
   "cell_type": "markdown",
   "metadata": {},
   "source": [
    "Function Syntax\n",
    "\n",
    "In Python, a function is defined using the def keyword, followed by the function name and parentheses (). The code block within every function starts with a colon : and is indented."
   ]
  },
  {
   "cell_type": "markdown",
   "metadata": {},
   "source": [
    "Defining and Calling Functions\n",
    "\n",
    "Defining a Function"
   ]
  },
  {
   "cell_type": "code",
   "execution_count": null,
   "metadata": {},
   "outputs": [],
   "source": [
    "# Here is the basic syntax for defining a function in Python:\n",
    "def function_name(parameters):\n",
    "    \"\"\"Docstring explaining the function.\"\"\"\n",
    "    # Function body\n",
    "    statement(s)"
   ]
  },
  {
   "cell_type": "code",
   "execution_count": null,
   "metadata": {},
   "outputs": [],
   "source": [
    "# Example: Let's define a simple function that prints a greeting message:\n",
    "def greet():\n",
    "    \"\"\"This function prints a greeting message.\"\"\"\n",
    "    print(\"Hello, welcome to learning Python functions!\")"
   ]
  },
  {
   "cell_type": "markdown",
   "metadata": {},
   "source": [
    "Calling a Function\n",
    "\n",
    "To call a function, simply use the function name followed by parentheses:"
   ]
  },
  {
   "cell_type": "code",
   "execution_count": 4,
   "metadata": {},
   "outputs": [
    {
     "name": "stdout",
     "output_type": "stream",
     "text": [
      "Hello, welcome to learning Python functions!\n"
     ]
    }
   ],
   "source": [
    "# Calling the greet function\n",
    "greet()"
   ]
  },
  {
   "cell_type": "code",
   "execution_count": 5,
   "metadata": {},
   "outputs": [
    {
     "name": "stdout",
     "output_type": "stream",
     "text": [
      "Hello, welcome to learning Python functions!\n"
     ]
    }
   ],
   "source": [
    "# Define the greet function\n",
    "def greet():\n",
    "    \"\"\"This function prints a greeting message.\"\"\"\n",
    "    print(\"Hello, welcome to learning Python functions!\")\n",
    "\n",
    "# Call the greet function\n",
    "greet()"
   ]
  },
  {
   "cell_type": "markdown",
   "metadata": {},
   "source": [
    "### 2. Function Parameters and Arguments"
   ]
  },
  {
   "cell_type": "markdown",
   "metadata": {},
   "source": [
    "Positional Arguments\n",
    "\n",
    "Positional arguments are the most common type of arguments. They are passed to the function in the same order as the function's parameters."
   ]
  },
  {
   "cell_type": "code",
   "execution_count": 10,
   "metadata": {},
   "outputs": [
    {
     "name": "stdout",
     "output_type": "stream",
     "text": [
      "Hello Ashiqur, welcome to learning Python functions!\n"
     ]
    }
   ],
   "source": [
    "def greet(name, message):\n",
    "    \"\"\"This function prints a greeting message.\"\"\"\n",
    "    print(f\"Hello {name}, {message}\")\n",
    "\n",
    "greet(\"Ashiqur\", \"welcome to learning Python functions!\")"
   ]
  },
  {
   "cell_type": "markdown",
   "metadata": {},
   "source": [
    "Keyword Arguments\n",
    "\n",
    "Keyword arguments are passed to the function by explicitly specifying the parameter name and value. This allows you to pass arguments in any order."
   ]
  },
  {
   "cell_type": "code",
   "execution_count": 11,
   "metadata": {},
   "outputs": [
    {
     "name": "stdout",
     "output_type": "stream",
     "text": [
      "Hello Ashiqur, welcome to learning Python functions!\n"
     ]
    }
   ],
   "source": [
    "def greet(name, message):\n",
    "    \"\"\"This function greets a person with a message.\"\"\"\n",
    "    print(f\"Hello {name}, {message}\")\n",
    "\n",
    "greet(message = \"welcome to learning Python functions!\", name = \"Ashiqur\")"
   ]
  },
  {
   "cell_type": "markdown",
   "metadata": {},
   "source": [
    "Default Parameters\n",
    "\n",
    "Default parameters allow you to define default values for parameters. If no argument is passed for that parameter, the default value is used."
   ]
  },
  {
   "cell_type": "code",
   "execution_count": 12,
   "metadata": {},
   "outputs": [
    {
     "name": "stdout",
     "output_type": "stream",
     "text": [
      "Hello Ashiqur, welcome to learning Python functions!\n",
      "Hello Ashiqur, welcome to learning Python functions!\n"
     ]
    }
   ],
   "source": [
    "def greet(name, message=\"welcome to learning Python functions!\"):\n",
    "    \"\"\"This function greets a person with a message.\"\"\"\n",
    "    print(f\"Hello {name}, {message}\")\n",
    "\n",
    "greet(\"Ashiqur\")\n",
    "greet(\"Ashiqur\", \"welcome to learning Python functions!\")"
   ]
  },
  {
   "cell_type": "markdown",
   "metadata": {},
   "source": [
    "Variable-Length Arguments\n",
    "\n",
    "Variable-length arguments allow you to pass a variable number of arguments to a function. There are two types: ***args** for non-keyword arguments and ****kwargs** for keyword arguments.\n",
    "\n",
    "***args**\n",
    "\n",
    "***args** allows you to pass a variable number of non-keyword arguments to a function."
   ]
  },
  {
   "cell_type": "code",
   "execution_count": 13,
   "metadata": {},
   "outputs": [
    {
     "name": "stdout",
     "output_type": "stream",
     "text": [
      "Hello Ashiqur\n",
      "Hello John\n",
      "Hello Doe\n"
     ]
    }
   ],
   "source": [
    "def greet(*names):\n",
    "    \"\"\"This function greets multiple people.\"\"\"\n",
    "    for name in names:\n",
    "        print(f\"Hello {name}\")\n",
    "\n",
    "greet(\"Ashiqur\", \"John\", \"Doe\")"
   ]
  },
  {
   "cell_type": "markdown",
   "metadata": {},
   "source": [
    "****kwargs**\n",
    "\n",
    "****kwargs** allows you to pass a variable number of keyword arguments to a function."
   ]
  },
  {
   "cell_type": "code",
   "execution_count": 15,
   "metadata": {},
   "outputs": [
    {
     "name": "stdout",
     "output_type": "stream",
     "text": [
      "Hello Ashiqur, welcome to learning Python functions!\n",
      "Hello John, how are you today?\n"
     ]
    }
   ],
   "source": [
    "def greet(**kwargs):\n",
    "    \"\"\"This function greets people with their message.\"\"\"\n",
    "    for name, message in kwargs.items():\n",
    "        print(f\"Hello {name}, {message}\")\n",
    "\n",
    "greet(Ashiqur=\"welcome to learning Python functions!\", John=\"how are you today?\")"
   ]
  },
  {
   "cell_type": "markdown",
   "metadata": {},
   "source": [
    "### 3. Return Values"
   ]
  },
  {
   "cell_type": "markdown",
   "metadata": {},
   "source": [
    "Returning Values from Functions\n",
    "\n",
    "Functions can return values using the return statement. This allows you to capture the result of a function and use it elsewhere in your code."
   ]
  },
  {
   "cell_type": "code",
   "execution_count": 16,
   "metadata": {},
   "outputs": [
    {
     "name": "stdout",
     "output_type": "stream",
     "text": [
      "30\n"
     ]
    }
   ],
   "source": [
    "def add(a, b):\n",
    "    \"\"\"This function returns the sum of two numbers.\"\"\"\n",
    "    return a + b\n",
    "\n",
    "result = add(10, 20)\n",
    "print(result)"
   ]
  },
  {
   "cell_type": "markdown",
   "metadata": {},
   "source": [
    "Multiple Return Values\n",
    "\n",
    "Functions can return multiple values by separating them with commas. These values are returned as a tuple."
   ]
  },
  {
   "cell_type": "code",
   "execution_count": 17,
   "metadata": {},
   "outputs": [
    {
     "name": "stdout",
     "output_type": "stream",
     "text": [
      "Hello Ashiqur, you are 25 years old.\n"
     ]
    }
   ],
   "source": [
    "def get_name_and_age():\n",
    "    \"\"\"This function returns a name and age.\"\"\"\n",
    "    name = input(\"Enter your name: \")\n",
    "    age = int(input(\"Enter your age: \"))\n",
    "    return name, age\n",
    "\n",
    "name, age = get_name_and_age()\n",
    "\n",
    "print(f\"Hello {name}, you are {age} years old.\")"
   ]
  },
  {
   "cell_type": "markdown",
   "metadata": {},
   "source": [
    "The return Statement\n",
    "\n",
    "The return statement is used to exit a function and optionally pass an expression back to the caller. If no expression is given, None is returned."
   ]
  },
  {
   "cell_type": "code",
   "execution_count": 19,
   "metadata": {},
   "outputs": [
    {
     "name": "stdout",
     "output_type": "stream",
     "text": [
      "False\n"
     ]
    }
   ],
   "source": [
    "def check_even(number):\n",
    "    \"\"\"This function checks if a number is even.\"\"\"\n",
    "    if number % 2 == 0:\n",
    "        return True\n",
    "    return False\n",
    "\n",
    "is_even = check_even(1)\n",
    "print(is_even)"
   ]
  },
  {
   "cell_type": "markdown",
   "metadata": {},
   "source": [
    "### 4. Scope and Lifetime of Variables"
   ]
  },
  {
   "cell_type": "markdown",
   "metadata": {},
   "source": [
    "Local and Global Scope\n",
    "\n",
    "**Local Scope:** Variables defined inside a function are in the local scope. They can only be accessed within that function.\n",
    "\n",
    "**Global Scope:** Variables defined outside any function are in the global scope. They can be accessed from any part of the code."
   ]
  },
  {
   "cell_type": "code",
   "execution_count": 20,
   "metadata": {},
   "outputs": [
    {
     "name": "stdout",
     "output_type": "stream",
     "text": [
      "Inside the function, x = 10\n",
      "Inside the function, y = 5\n"
     ]
    }
   ],
   "source": [
    "# Global Variable\n",
    "x = 10\n",
    "\n",
    "def my_function():\n",
    "    # Local Variable\n",
    "    y = 5\n",
    "    print(\"Inside the function, x =\", x)\n",
    "    print(\"Inside the function, y =\", y)\n",
    "\n",
    "my_function()"
   ]
  },
  {
   "cell_type": "markdown",
   "metadata": {},
   "source": [
    "The nonlocal Keyword\n",
    "\n",
    "The nonlocal keyword is used to modify a variable in the nearest enclosing scope (excluding global scope)."
   ]
  },
  {
   "cell_type": "code",
   "execution_count": 21,
   "metadata": {},
   "outputs": [
    {
     "name": "stdout",
     "output_type": "stream",
     "text": [
      "Inside the inner function, x = 10\n",
      "Inside the inner function, y = 5\n",
      "Outside the inner function, x = 10\n"
     ]
    }
   ],
   "source": [
    "def outer_function():\n",
    "    x = 10\n",
    "\n",
    "    def inner_function():\n",
    "        y = 5\n",
    "        print(\"Inside the inner function, x =\", x)\n",
    "        print(\"Inside the inner function, y =\", y)\n",
    "\n",
    "    inner_function()\n",
    "    print(\"Outside the inner function, x =\", x)\n",
    "\n",
    "outer_function()"
   ]
  },
  {
   "cell_type": "markdown",
   "metadata": {},
   "source": [
    "### 5. Lambda Functions"
   ]
  },
  {
   "cell_type": "markdown",
   "metadata": {},
   "source": [
    "Lambda functions, also known as anonymous functions, are small, unnamed functions defined using the lambda keyword. They are typically used for short, simple operations and are often used as arguments to higher-order functions."
   ]
  },
  {
   "cell_type": "code",
   "execution_count": 22,
   "metadata": {},
   "outputs": [
    {
     "data": {
      "text/plain": [
       "<function __main__.<lambda>(arguments)>"
      ]
     },
     "execution_count": 22,
     "metadata": {},
     "output_type": "execute_result"
    }
   ],
   "source": [
    "lambda arguments: expression"
   ]
  },
  {
   "cell_type": "markdown",
   "metadata": {},
   "source": [
    "**lambda** is the keyword used to define a lambda function.\n",
    "\n",
    "**arguments** are the parameters passed to the lambda function.\n",
    "\n",
    "**expression** is the single expression that the lambda function evaluates and returns."
   ]
  },
  {
   "cell_type": "code",
   "execution_count": 24,
   "metadata": {},
   "outputs": [
    {
     "name": "stdout",
     "output_type": "stream",
     "text": [
      "8\n"
     ]
    }
   ],
   "source": [
    "add = lambda a, b: a + b\n",
    "print(add(3, 5))"
   ]
  },
  {
   "cell_type": "markdown",
   "metadata": {},
   "source": [
    "Using Lambda Functions with map(), filter(), and reduce()\n",
    "\n",
    "map()\n",
    "\n",
    "The map() function applies a given function to all items in an iterable (e.g., list) and returns a map object (an iterator)."
   ]
  },
  {
   "cell_type": "code",
   "execution_count": 27,
   "metadata": {},
   "outputs": [
    {
     "name": "stdout",
     "output_type": "stream",
     "text": [
      "[1, 4, 9, 16, 25]\n"
     ]
    }
   ],
   "source": [
    "numbers = [1, 2, 3, 4, 5]\n",
    "squared = map(lambda x: x**2, numbers)\n",
    "print(list(squared))"
   ]
  },
  {
   "cell_type": "markdown",
   "metadata": {},
   "source": [
    "filter()\n",
    "\n",
    "The filter() function constructs an iterator from elements of an iterable for which a function returns true."
   ]
  },
  {
   "cell_type": "code",
   "execution_count": 31,
   "metadata": {},
   "outputs": [
    {
     "name": "stdout",
     "output_type": "stream",
     "text": [
      "[2, 4]\n"
     ]
    }
   ],
   "source": [
    "numbers = [1, 2, 3, 4, 5]\n",
    "even_numbers = filter(lambda x: x % 2 == 0, numbers)\n",
    "print(list(even_numbers))  "
   ]
  },
  {
   "cell_type": "markdown",
   "metadata": {},
   "source": [
    "reduce()\n",
    "\n",
    "The reduce() function from the functools module applies a rolling computation to sequential pairs of values in an iterable."
   ]
  },
  {
   "cell_type": "code",
   "execution_count": 32,
   "metadata": {},
   "outputs": [
    {
     "name": "stdout",
     "output_type": "stream",
     "text": [
      "15\n"
     ]
    }
   ],
   "source": [
    "from functools import reduce\n",
    "\n",
    "numbers = [1, 2, 3, 4, 5]\n",
    "sum_numbers = reduce(lambda x, y: x + y, numbers)\n",
    "print(sum_numbers)  # Output: 15"
   ]
  },
  {
   "cell_type": "markdown",
   "metadata": {},
   "source": [
    "### 6. Higher-Order Functions"
   ]
  },
  {
   "cell_type": "markdown",
   "metadata": {},
   "source": [
    "Functions as First-Class Citizens\n",
    "\n",
    "In Python, functions are first-class citizens, which means they can be passed around and used as arguments just like any other object (string, int, float, etc.).\n",
    "\n",
    "Passing Functions as Arguments\n",
    "\n",
    "You can pass functions as arguments to other functions. This is a common practice in functional programming."
   ]
  },
  {
   "cell_type": "code",
   "execution_count": 33,
   "metadata": {},
   "outputs": [
    {
     "name": "stdout",
     "output_type": "stream",
     "text": [
      "25\n"
     ]
    }
   ],
   "source": [
    "def apply_function(func, value):\n",
    "    \"\"\"This function applies another function to a value.\"\"\"\n",
    "    return func(value)\n",
    "\n",
    "def square(x):\n",
    "    return x ** 2\n",
    "\n",
    "result = apply_function(square, 5)\n",
    "print(result)"
   ]
  },
  {
   "cell_type": "markdown",
   "metadata": {},
   "source": [
    "Returning Functions from Functions\n",
    "\n",
    "A function can return another function. This is useful for creating function factories."
   ]
  },
  {
   "cell_type": "code",
   "execution_count": 37,
   "metadata": {},
   "outputs": [
    {
     "name": "stdout",
     "output_type": "stream",
     "text": [
      "15\n"
     ]
    }
   ],
   "source": [
    "def create_multiplier(n):\n",
    "    \"\"\"This function returns a multiplier function.\"\"\"\n",
    "    def multiplier(x):\n",
    "        return x * n\n",
    "    return multiplier\n",
    "\n",
    "times_three = create_multiplier(3)\n",
    "print(times_three(5))"
   ]
  },
  {
   "cell_type": "markdown",
   "metadata": {},
   "source": [
    "Returning Functions from Functions\n",
    "\n",
    "A function can return another function. This is useful for creating function factories."
   ]
  },
  {
   "cell_type": "code",
   "execution_count": 35,
   "metadata": {},
   "outputs": [
    {
     "name": "stdout",
     "output_type": "stream",
     "text": [
      "Hello, World!\n"
     ]
    }
   ],
   "source": [
    "def outer_function(text):\n",
    "    \"\"\"This function returns an inner function.\"\"\"\n",
    "    def inner_function():\n",
    "        print(text)\n",
    "    return inner_function\n",
    "\n",
    "closure = outer_function(\"Hello, World!\")\n",
    "closure()"
   ]
  },
  {
   "cell_type": "markdown",
   "metadata": {},
   "source": [
    "### 7. Decorators"
   ]
  },
  {
   "cell_type": "markdown",
   "metadata": {},
   "source": [
    "Introduction to Decorators\n",
    "\n",
    "Decorators are a powerful and useful tool in Python that allows you to modify the behavior of a function or class. They are often used to add functionality to existing code in a clean and readable way.\n",
    "\n",
    "Creating and Using Decorators\n",
    "\n",
    "A decorator is a function that takes another function as an argument, adds some kind of functionality, and returns another function."
   ]
  },
  {
   "cell_type": "code",
   "execution_count": 38,
   "metadata": {},
   "outputs": [
    {
     "name": "stdout",
     "output_type": "stream",
     "text": [
      "Something is happening before the function is called.\n",
      "Hello!\n",
      "Something is happening after the function is called.\n"
     ]
    }
   ],
   "source": [
    "def my_decorator(func):\n",
    "    def wrapper():\n",
    "        print(\"Something is happening before the function is called.\")\n",
    "        func()\n",
    "        print(\"Something is happening after the function is called.\")\n",
    "    return wrapper\n",
    "\n",
    "@my_decorator\n",
    "def say_hello():\n",
    "    print(\"Hello!\")\n",
    "\n",
    "say_hello()"
   ]
  },
  {
   "cell_type": "markdown",
   "metadata": {},
   "source": [
    "Decorating Functions with Arguments\n",
    "\n",
    "If the function being decorated takes arguments, the wrapper function must accept those arguments and pass them on to the original function."
   ]
  },
  {
   "cell_type": "code",
   "execution_count": 39,
   "metadata": {},
   "outputs": [
    {
     "name": "stdout",
     "output_type": "stream",
     "text": [
      "Something is happening before the function is called.\n",
      "Hello Ashiqur!\n",
      "Something is happening after the function is called.\n"
     ]
    }
   ],
   "source": [
    "def my_decorator(func):\n",
    "    def wrapper(*args, **kwargs):\n",
    "        print(\"Something is happening before the function is called.\")\n",
    "        result = func(*args, **kwargs)\n",
    "        print(\"Something is happening after the function is called.\")\n",
    "        return result\n",
    "    return wrapper\n",
    "\n",
    "@my_decorator\n",
    "def say_hello(name):\n",
    "    print(f\"Hello {name}!\")\n",
    "\n",
    "say_hello(\"Ashiqur\")"
   ]
  },
  {
   "cell_type": "markdown",
   "metadata": {},
   "source": [
    "Chaining Decorators\n",
    "\n",
    "You can apply multiple decorators to a single function by stacking them on top of each other."
   ]
  },
  {
   "cell_type": "code",
   "execution_count": 40,
   "metadata": {},
   "outputs": [
    {
     "name": "stdout",
     "output_type": "stream",
     "text": [
      "Decorator One\n",
      "Decorator Two\n",
      "Hello Ashiqur!\n"
     ]
    }
   ],
   "source": [
    "def decorator_one(func):\n",
    "    def wrapper(*args, **kwargs):\n",
    "        print(\"Decorator One\")\n",
    "        return func(*args, **kwargs)\n",
    "    return wrapper\n",
    "\n",
    "def decorator_two(func):\n",
    "    def wrapper(*args, **kwargs):\n",
    "        print(\"Decorator Two\")\n",
    "        return func(*args, **kwargs)\n",
    "    return wrapper\n",
    "\n",
    "@decorator_one\n",
    "@decorator_two\n",
    "def say_hello(name):\n",
    "    print(f\"Hello {name}!\")\n",
    "\n",
    "say_hello(\"Ashiqur\")"
   ]
  },
  {
   "cell_type": "markdown",
   "metadata": {},
   "source": [
    "### 8. Built-in Functions"
   ]
  },
  {
   "cell_type": "markdown",
   "metadata": {},
   "source": [
    "Python provides a rich set of built-in functions that are always available for use. These functions perform common tasks and can be used without importing any additional modules."
   ]
  },
  {
   "cell_type": "code",
   "execution_count": 41,
   "metadata": {},
   "outputs": [
    {
     "name": "stdout",
     "output_type": "stream",
     "text": [
      "5\n"
     ]
    }
   ],
   "source": [
    "my_list = [1, 2, 3, 4, 5]\n",
    "print(len(my_list))  # Output: 5"
   ]
  },
  {
   "cell_type": "markdown",
   "metadata": {},
   "source": [
    "### 9. Recursion"
   ]
  },
  {
   "cell_type": "markdown",
   "metadata": {},
   "source": [
    "Introduction to Recursion\n",
    "\n",
    "Recursion is a programming technique where a function calls itself in order to solve a problem. Recursive functions break down a problem into smaller sub-problems of the same type.\n",
    "\n",
    "Base Case and Recursive Case\n",
    "\n",
    "A recursive function must have:\n",
    "\n",
    "- Base Case: The condition under which the function stops calling itself.\n",
    "- Recursive Case: The part of the function where it calls itself with a smaller or simpler input.\n",
    "\n",
    "\n",
    "Factorial\n",
    "\n",
    "The factorial of a non-negative integer n is the product of all positive integers less than or equal to n. It is denoted by n!."
   ]
  },
  {
   "cell_type": "code",
   "execution_count": 42,
   "metadata": {},
   "outputs": [
    {
     "name": "stdout",
     "output_type": "stream",
     "text": [
      "120\n"
     ]
    }
   ],
   "source": [
    "def factorial(n):\n",
    "    \"\"\"This function calculates the factorial of a number.\"\"\"\n",
    "    if n == 0:\n",
    "        return 1\n",
    "    else:\n",
    "        return n * factorial(n - 1)\n",
    "    \n",
    "print(factorial(5))  "
   ]
  },
  {
   "cell_type": "markdown",
   "metadata": {},
   "source": [
    "Fibonacci\n",
    "\n",
    "The Fibonacci sequence is a series of numbers where each number is the sum of the two preceding ones, usually starting with 0 and 1."
   ]
  },
  {
   "cell_type": "code",
   "execution_count": 44,
   "metadata": {},
   "outputs": [
    {
     "name": "stdout",
     "output_type": "stream",
     "text": [
      "8\n"
     ]
    }
   ],
   "source": [
    "def fibonacci(n):\n",
    "    \"\"\"This function returns the nth Fibonacci number.\"\"\"\n",
    "    if n <= 0:\n",
    "        return 0  # Base case\n",
    "    elif n == 1:\n",
    "        return 1  # Base case\n",
    "    else:\n",
    "        return fibonacci(n - 1) + fibonacci(n - 2)  # Recursive case\n",
    "\n",
    "print(fibonacci(6))  # Output: 8"
   ]
  },
  {
   "cell_type": "markdown",
   "metadata": {},
   "source": [
    "Pros and Cons of Recursion\n",
    "\n",
    "Pros\n",
    "\n",
    "- Simplifies code for problems that can be broken down into similar sub-problems.\n",
    "- Makes the code more readable and easier to understand for certain problems.\n",
    "\n",
    "Cons\n",
    "\n",
    "- Can lead to high memory usage and stack overflow if the recursion depth is too large.\n",
    "- May be less efficient than iterative solutions due to function call overhead."
   ]
  },
  {
   "cell_type": "markdown",
   "metadata": {},
   "source": [
    "### 10. Error Handling in Functions"
   ]
  },
  {
   "cell_type": "markdown",
   "metadata": {},
   "source": [
    "Using try, except, finally Blocks\n",
    "\n",
    "Python provides a way to handle errors using try, except, and finally blocks. This allows you to catch and handle exceptions gracefully without crashing your program."
   ]
  },
  {
   "cell_type": "code",
   "execution_count": 45,
   "metadata": {},
   "outputs": [
    {
     "name": "stdout",
     "output_type": "stream",
     "text": [
      "Execution of the divide function is complete.\n",
      "5.0\n",
      "Error: Division by zero is not allowed.\n",
      "Execution of the divide function is complete.\n",
      "None\n"
     ]
    }
   ],
   "source": [
    "def divide(a, b):\n",
    "    \"\"\"This function divides two numbers and handles division by zero.\"\"\"\n",
    "    try:\n",
    "        result = a / b\n",
    "    except ZeroDivisionError:\n",
    "        print(\"Error: Division by zero is not allowed.\")\n",
    "        return None\n",
    "    else:\n",
    "        return result\n",
    "    finally:\n",
    "        print(\"Execution of the divide function is complete.\")\n",
    "\n",
    "print(divide(10, 2))  # Output: 5.0\n",
    "print(divide(10, 0))  # Output: Error: Division by zero is not allowed."
   ]
  },
  {
   "cell_type": "markdown",
   "metadata": {},
   "source": [
    "Raising Exceptions\n",
    "\n",
    "You can raise exceptions in your functions using the raise keyword. This is useful when you want to signal that an error has occurred."
   ]
  },
  {
   "cell_type": "code",
   "execution_count": 46,
   "metadata": {},
   "outputs": [
    {
     "name": "stdout",
     "output_type": "stream",
     "text": [
      "10\n",
      "The number must be positive.\n"
     ]
    }
   ],
   "source": [
    "def check_positive(number):\n",
    "    \"\"\"This function checks if a number is positive.\"\"\"\n",
    "    if number < 0:\n",
    "        raise ValueError(\"The number must be positive.\")\n",
    "    return number\n",
    "\n",
    "try:\n",
    "    print(check_positive(10))  # Output: 10\n",
    "    print(check_positive(-5))  # Raises ValueError\n",
    "except ValueError as e:\n",
    "    print(e)  # Output: The number must be positive."
   ]
  },
  {
   "cell_type": "markdown",
   "metadata": {},
   "source": [
    "Custom Exceptions\n",
    "\n",
    "You can define your own custom exceptions by creating a new class that inherits from the built-in Exception class."
   ]
  },
  {
   "cell_type": "code",
   "execution_count": 47,
   "metadata": {},
   "outputs": [
    {
     "name": "stdout",
     "output_type": "stream",
     "text": [
      "10\n",
      "The number must be positive.\n"
     ]
    }
   ],
   "source": [
    "class NegativeNumberError(Exception):\n",
    "    \"\"\"Exception raised for negative numbers.\"\"\"\n",
    "    pass\n",
    "\n",
    "def check_positive(number):\n",
    "    \"\"\"This function checks if a number is positive.\"\"\"\n",
    "    if number < 0:\n",
    "        raise NegativeNumberError(\"The number must be positive.\")\n",
    "    return number\n",
    "\n",
    "try:\n",
    "    print(check_positive(10))  # Output: 10\n",
    "    print(check_positive(-5))  # Raises NegativeNumberError\n",
    "except NegativeNumberError as e:\n",
    "    print(e)  # Output: The number must be positive."
   ]
  },
  {
   "cell_type": "markdown",
   "metadata": {},
   "source": [
    "### 11. Advanced Function Concepts"
   ]
  },
  {
   "cell_type": "markdown",
   "metadata": {},
   "source": [
    "Function Annotations\n",
    "\n",
    "Function annotations provide a way of associating various parts of a function with arbitrary Python expressions at compile time. They are stored in the function's __annotations__ attribute."
   ]
  },
  {
   "cell_type": "code",
   "execution_count": 48,
   "metadata": {},
   "outputs": [
    {
     "name": "stdout",
     "output_type": "stream",
     "text": [
      "Hello, Alice. You are 30 years old.\n",
      "{'name': <class 'str'>, 'age': <class 'int'>, 'return': <class 'str'>}\n"
     ]
    }
   ],
   "source": [
    "def greet(name: str, age: int) -> str:\n",
    "    \"\"\"This function greets a person with their name and age.\"\"\"\n",
    "    return f\"Hello, {name}. You are {age} years old.\"\n",
    "\n",
    "print(greet(\"Alice\", 30))  # Output: Hello, Alice. You are 30 years old.\n",
    "print(greet.__annotations__)  # Output: {'name': <class 'str'>, 'age': <class 'int'>, 'return': <class 'str'>}"
   ]
  },
  {
   "cell_type": "markdown",
   "metadata": {},
   "source": [
    "Partial Functions with functools.partial\n",
    "\n",
    "The functools.partial function allows you to fix a certain number of arguments of a function and generate a new function."
   ]
  },
  {
   "cell_type": "code",
   "execution_count": 49,
   "metadata": {},
   "outputs": [
    {
     "name": "stdout",
     "output_type": "stream",
     "text": [
      "25\n",
      "27\n"
     ]
    }
   ],
   "source": [
    "from functools import partial\n",
    "\n",
    "def power(base, exponent):\n",
    "    return base ** exponent\n",
    "\n",
    "# Create a new function that squares a number\n",
    "square = partial(power, exponent=2)\n",
    "print(square(5))  # Output: 25\n",
    "\n",
    "# Create a new function that cubes a number\n",
    "cube = partial(power, exponent=3)\n",
    "print(cube(3))  # Output: 27"
   ]
  },
  {
   "cell_type": "markdown",
   "metadata": {},
   "source": [
    "Introspection of Functions\n",
    "\n",
    "Introspection is the ability to examine the type or properties of an object at runtime. Functions have several attributes that can be used for introspection."
   ]
  },
  {
   "cell_type": "code",
   "execution_count": 50,
   "metadata": {},
   "outputs": [
    {
     "name": "stdout",
     "output_type": "stream",
     "text": [
      "example_function\n",
      "This is an example function.\n",
      "('param1', 'param2')\n"
     ]
    }
   ],
   "source": [
    "def example_function(param1, param2):\n",
    "    \"\"\"This is an example function.\"\"\"\n",
    "    return param1 + param2\n",
    "\n",
    "print(example_function.__name__)  # Output: example_function\n",
    "print(example_function.__doc__)   # Output: This is an example function.\n",
    "print(example_function.__code__.co_varnames)  # Output: ('param1', 'param2')"
   ]
  },
  {
   "cell_type": "markdown",
   "metadata": {},
   "source": [
    "Function Caching with functools.lru_cache\n",
    "\n",
    "The functools.lru_cache decorator can be used to cache the results of expensive function calls and reuse them when the same inputs occur again."
   ]
  },
  {
   "cell_type": "code",
   "execution_count": 51,
   "metadata": {},
   "outputs": [
    {
     "name": "stdout",
     "output_type": "stream",
     "text": [
      "55\n",
      "CacheInfo(hits=8, misses=11, maxsize=32, currsize=11)\n"
     ]
    }
   ],
   "source": [
    "from functools import lru_cache\n",
    "\n",
    "@lru_cache(maxsize=32)\n",
    "def fibonacci(n):\n",
    "    if n <= 1:\n",
    "        return n\n",
    "    return fibonacci(n - 1) + fibonacci(n - 2)\n",
    "\n",
    "print(fibonacci(10))  # Output: 55\n",
    "print(fibonacci.cache_info())  # Output: CacheInfo(hits=8, misses=11, maxsize=32, currsize=11)"
   ]
  },
  {
   "cell_type": "markdown",
   "metadata": {},
   "source": [
    "### 12. Practical Examples and Use Cases"
   ]
  },
  {
   "cell_type": "code",
   "execution_count": 52,
   "metadata": {},
   "outputs": [
    {
     "name": "stdout",
     "output_type": "stream",
     "text": [
      "120\n"
     ]
    }
   ],
   "source": [
    "# Calculates the factorial of a number using recursion.\n",
    "def factorial(n):\n",
    "    \"\"\"This function returns the factorial of a number.\"\"\"\n",
    "    if n == 0:\n",
    "        return 1\n",
    "    else:\n",
    "        return n * factorial(n - 1)\n",
    "\n",
    "print(factorial(5))  # Output: 120"
   ]
  },
  {
   "cell_type": "code",
   "execution_count": 53,
   "metadata": {},
   "outputs": [
    {
     "name": "stdout",
     "output_type": "stream",
     "text": [
      "8\n"
     ]
    }
   ],
   "source": [
    "# Calculates the nth Fibonacci number using recursion.\n",
    "def fibonacci(n):\n",
    "    \"\"\"This function returns the nth Fibonacci number.\"\"\"\n",
    "    if n <= 0:\n",
    "        return 0\n",
    "    elif n == 1:\n",
    "        return 1\n",
    "    else:\n",
    "        return fibonacci(n - 1) + fibonacci(n - 2)\n",
    "\n",
    "print(fibonacci(6))  # Output: 8"
   ]
  },
  {
   "cell_type": "code",
   "execution_count": 54,
   "metadata": {},
   "outputs": [
    {
     "name": "stdout",
     "output_type": "stream",
     "text": [
      "olleh\n"
     ]
    }
   ],
   "source": [
    "# Reverses a given string.\n",
    "def reverse_string(s):\n",
    "    \"\"\"This function returns the reversed string.\"\"\"\n",
    "    return s[::-1]\n",
    "\n",
    "print(reverse_string(\"hello\"))  # Output: olleh"
   ]
  },
  {
   "cell_type": "code",
   "execution_count": 55,
   "metadata": {},
   "outputs": [
    {
     "name": "stdout",
     "output_type": "stream",
     "text": [
      "True\n",
      "False\n"
     ]
    }
   ],
   "source": [
    "# Checks if a given string is a palindrome.\n",
    "def is_palindrome(s):\n",
    "    \"\"\"This function checks if a string is a palindrome.\"\"\"\n",
    "    return s == s[::-1]\n",
    "\n",
    "print(is_palindrome(\"radar\"))  # Output: True\n",
    "print(is_palindrome(\"hello\"))  # Output: False"
   ]
  },
  {
   "cell_type": "code",
   "execution_count": null,
   "metadata": {},
   "outputs": [
    {
     "name": "stdout",
     "output_type": "stream",
     "text": [
      "15\n"
     ]
    }
   ],
   "source": [
    "# Calculates the sum of all elements in a list.\n",
    "def sum_list(lst):\n",
    "    \"\"\"This function returns the sum of all elements in a list.\"\"\"\n",
    "    return sum(lst)\n",
    "\n",
    "print(sum_list([1, 2, 3, 4, 5]))  # Output: 15"
   ]
  },
  {
   "cell_type": "code",
   "execution_count": 57,
   "metadata": {},
   "outputs": [
    {
     "name": "stdout",
     "output_type": "stream",
     "text": [
      "3.0\n"
     ]
    }
   ],
   "source": [
    "# Calculates the average of all elements in a list.\n",
    "def average_list(lst):\n",
    "    \"\"\"This function returns the average of all elements in a list.\"\"\"\n",
    "    return sum(lst) / len(lst)\n",
    "\n",
    "print(average_list([1, 2, 3, 4, 5]))  # Output: 3.0"
   ]
  },
  {
   "cell_type": "code",
   "execution_count": 60,
   "metadata": {},
   "outputs": [
    {
     "name": "stdout",
     "output_type": "stream",
     "text": [
      "None\n"
     ]
    }
   ],
   "source": [
    "# Fetches data from a given API endpoint.\n",
    "import requests\n",
    "\n",
    "def fetch_data(url):\n",
    "    \"\"\"This function fetches data from a given API endpoint.\"\"\"\n",
    "    response = requests.get(url)\n",
    "    if response.status_code == 200:\n",
    "        return response.json()\n",
    "    else:\n",
    "        return None\n",
    "\n",
    "url = \"https://api.github.com/ashiqur0202\"\n",
    "data = fetch_data(url)\n",
    "print(data)\n"
   ]
  },
  {
   "cell_type": "markdown",
   "metadata": {},
   "source": [
    "### 13. Best Practices"
   ]
  },
  {
   "cell_type": "markdown",
   "metadata": {},
   "source": [
    "Designing Robust and Scalable Functions\n",
    "\n",
    "- Single Responsibility Principle: Each function should have a single responsibility or perform a single task.\n",
    "- Keep Functions Small: Functions should be small and focused on a single task. This makes them easier to understand, test, and maintain.\n",
    "- Avoid Side Effects: Functions should avoid modifying global state or variables outside their scope.\n",
    "\n",
    "Ensuring Data Quality and Data Validation\n",
    "\n",
    "- Input Validation: Validate the inputs to your functions to ensure they meet the expected criteria.\n",
    "- Type Hints: Use type hints to specify the expected types of function parameters and return values."
   ]
  },
  {
   "cell_type": "code",
   "execution_count": 61,
   "metadata": {},
   "outputs": [
    {
     "name": "stdout",
     "output_type": "stream",
     "text": [
      "8\n"
     ]
    }
   ],
   "source": [
    "def add(a: int, b: int) -> int:\n",
    "    \"\"\"This function adds two integers.\"\"\"\n",
    "    if not isinstance(a, int) or not isinstance(b, int):\n",
    "        raise ValueError(\"Both arguments must be integers.\")\n",
    "    return a + b\n",
    "\n",
    "print(add(3, 5))  # Output: 8\n",
    "# print(add(3, \"5\"))  # Raises ValueError"
   ]
  },
  {
   "cell_type": "markdown",
   "metadata": {},
   "source": [
    "Automating Pipelines with Orchestration Tools\n",
    "\n",
    "- Use tools like Apache Airflow, Prefect, or Luigi to automate and manage complex workflows and data pipelines.\n",
    "\n",
    "Monitoring, Logging, and Alerting\n",
    "- Logging: Use logging to record important events and errors in your functions.\n",
    "- Monitoring: Monitor the performance and health of your functions using tools like Prometheus and Grafana.\n",
    "- Alerting: Set up alerts to notify you of any issues or failures in your functions."
   ]
  },
  {
   "cell_type": "code",
   "execution_count": 62,
   "metadata": {},
   "outputs": [
    {
     "name": "stderr",
     "output_type": "stream",
     "text": [
      "INFO:root:Divided 10 by 2, result: 5.0\n",
      "ERROR:root:Division by zero is not allowed.\n"
     ]
    },
    {
     "name": "stdout",
     "output_type": "stream",
     "text": [
      "5.0\n",
      "None\n"
     ]
    }
   ],
   "source": [
    "import logging\n",
    "\n",
    "# Configure logging\n",
    "logging.basicConfig(level=logging.INFO)\n",
    "\n",
    "def divide(a, b):\n",
    "    \"\"\"This function divides two numbers and logs the operation.\"\"\"\n",
    "    try:\n",
    "        result = a / b\n",
    "        logging.info(f\"Divided {a} by {b}, result: {result}\")\n",
    "        return result\n",
    "    except ZeroDivisionError:\n",
    "        logging.error(\"Division by zero is not allowed.\")\n",
    "        return None\n",
    "\n",
    "print(divide(10, 2))  # Output: 5.0\n",
    "print(divide(10, 0))  # Output: None"
   ]
  },
  {
   "cell_type": "markdown",
   "metadata": {},
   "source": [
    "Handling Failures and Fault Tolerance\n",
    "- Graceful Degradation: Design your functions to handle failures gracefully and continue operating in a degraded mode if possible.\n",
    "- Retries: Implement retry logic for operations that may fail intermittently."
   ]
  },
  {
   "cell_type": "code",
   "execution_count": 63,
   "metadata": {},
   "outputs": [
    {
     "name": "stdout",
     "output_type": "stream",
     "text": [
      "{'current_user_url': 'https://api.github.com/user', 'current_user_authorizations_html_url': 'https://github.com/settings/connections/applications{/client_id}', 'authorizations_url': 'https://api.github.com/authorizations', 'code_search_url': 'https://api.github.com/search/code?q={query}{&page,per_page,sort,order}', 'commit_search_url': 'https://api.github.com/search/commits?q={query}{&page,per_page,sort,order}', 'emails_url': 'https://api.github.com/user/emails', 'emojis_url': 'https://api.github.com/emojis', 'events_url': 'https://api.github.com/events', 'feeds_url': 'https://api.github.com/feeds', 'followers_url': 'https://api.github.com/user/followers', 'following_url': 'https://api.github.com/user/following{/target}', 'gists_url': 'https://api.github.com/gists{/gist_id}', 'hub_url': 'https://api.github.com/hub', 'issue_search_url': 'https://api.github.com/search/issues?q={query}{&page,per_page,sort,order}', 'issues_url': 'https://api.github.com/issues', 'keys_url': 'https://api.github.com/user/keys', 'label_search_url': 'https://api.github.com/search/labels?q={query}&repository_id={repository_id}{&page,per_page}', 'notifications_url': 'https://api.github.com/notifications', 'organization_url': 'https://api.github.com/orgs/{org}', 'organization_repositories_url': 'https://api.github.com/orgs/{org}/repos{?type,page,per_page,sort}', 'organization_teams_url': 'https://api.github.com/orgs/{org}/teams', 'public_gists_url': 'https://api.github.com/gists/public', 'rate_limit_url': 'https://api.github.com/rate_limit', 'repository_url': 'https://api.github.com/repos/{owner}/{repo}', 'repository_search_url': 'https://api.github.com/search/repositories?q={query}{&page,per_page,sort,order}', 'current_user_repositories_url': 'https://api.github.com/user/repos{?type,page,per_page,sort}', 'starred_url': 'https://api.github.com/user/starred{/owner}{/repo}', 'starred_gists_url': 'https://api.github.com/gists/starred', 'topic_search_url': 'https://api.github.com/search/topics?q={query}{&page,per_page}', 'user_url': 'https://api.github.com/users/{user}', 'user_organizations_url': 'https://api.github.com/user/orgs', 'user_repositories_url': 'https://api.github.com/users/{user}/repos{?type,page,per_page,sort}', 'user_search_url': 'https://api.github.com/search/users?q={query}{&page,per_page,sort,order}'}\n"
     ]
    }
   ],
   "source": [
    "import time\n",
    "\n",
    "def fetch_data_with_retries(url, retries=3):\n",
    "    \"\"\"This function fetches data from a given API endpoint with retries.\"\"\"\n",
    "    for attempt in range(retries):\n",
    "        try:\n",
    "            response = requests.get(url)\n",
    "            if response.status_code == 200:\n",
    "                return response.json()\n",
    "        except requests.RequestException as e:\n",
    "            logging.error(f\"Attempt {attempt + 1} failed: {e}\")\n",
    "            time.sleep(2)  # Wait before retrying\n",
    "    return None\n",
    "\n",
    "url = \"https://api.github.com\"\n",
    "data = fetch_data_with_retries(url)\n",
    "print(data)"
   ]
  },
  {
   "cell_type": "markdown",
   "metadata": {},
   "source": [
    "Documentation and Version Control\n",
    "- Docstrings: Use docstrings to document your functions, explaining what they do, their parameters, and return values.\n",
    "- Version Control: Use version control systems like Git to track changes to your functions and collaborate with others."
   ]
  },
  {
   "cell_type": "code",
   "execution_count": 64,
   "metadata": {},
   "outputs": [
    {
     "name": "stdout",
     "output_type": "stream",
     "text": [
      "15\n"
     ]
    }
   ],
   "source": [
    "def multiply(a: int, b: int) -> int:\n",
    "    \"\"\"\n",
    "    This function multiplies two integers.\n",
    "\n",
    "    Parameters:\n",
    "    a (int): The first integer.\n",
    "    b (int): The second integer.\n",
    "\n",
    "    Returns:\n",
    "    int: The product of the two integers.\n",
    "    \"\"\"\n",
    "    return a * b\n",
    "\n",
    "print(multiply(3, 5))  # Output: 15"
   ]
  },
  {
   "cell_type": "markdown",
   "metadata": {},
   "source": [
    "Thank You"
   ]
  }
 ],
 "metadata": {
  "kernelspec": {
   "display_name": "Python 3",
   "language": "python",
   "name": "python3"
  },
  "language_info": {
   "codemirror_mode": {
    "name": "ipython",
    "version": 3
   },
   "file_extension": ".py",
   "mimetype": "text/x-python",
   "name": "python",
   "nbconvert_exporter": "python",
   "pygments_lexer": "ipython3",
   "version": "3.12.8"
  }
 },
 "nbformat": 4,
 "nbformat_minor": 2
}
