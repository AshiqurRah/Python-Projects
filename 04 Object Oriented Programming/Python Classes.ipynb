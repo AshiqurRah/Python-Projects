{
 "cells": [
  {
   "cell_type": "markdown",
   "id": "4c0ce7fa-d413-41df-ab74-2824b8730815",
   "metadata": {},
   "source": [
    "# Understanding Python Classes: A Comprehensive Guide\n",
    "\n",
    "## Introduction\n",
    "- Brief overview of Python classes.\n",
    "- Importance of object-oriented programming (OOP) in Python.\n",
    "- Purpose of classes in code organization and reuse.\n",
    "\n",
    "## Table of Contents\n",
    "1. **Basics of Python Classes**\n",
    "   - Definition of a class.\n",
    "   - Syntax for creating a class.\n",
    "   - Creating instances (objects) of a class.\n",
    "\n",
    "2. **Attributes and Methods**\n",
    "   - Understanding attributes (class variables and instance variables).\n",
    "   - Defining methods inside a class.\n",
    "   - The `self` parameter and its significance.\n",
    "\n",
    "3. **Constructors and Destructors**\n",
    "   - Introduction to the `__init__` method (constructor).\n",
    "   - Purpose of initialization in the constructor.\n",
    "   - The `__del__` method (destructor) and its usage.\n",
    "\n",
    "4. **Inheritance and Polymorphism**\n",
    "   - Creating a hierarchy of classes using inheritance.\n",
    "   - Overriding methods for polymorphic behavior.\n",
    "   - Using the `super()` function to call methods from the parent class.\n",
    "\n",
    "5. **Encapsulation**\n",
    "   - Encapsulating data within a class.\n",
    "   - Public, private, and protected attributes and methods.\n",
    "   - Getter and setter methods for controlled access.\n",
    "\n",
    "6. **Class and Instance Variables**\n",
    "   - Understanding the difference between class and instance variables.\n",
    "   - Use cases for each type of variable.\n",
    "   - Modifying class variables and their impact.\n",
    "\n",
    "7. **Static Methods and Class Methods**\n",
    "   - Defining static methods and their use cases.\n",
    "   - Class methods and the `@classmethod` decorator.\n",
    "   - Differences between instance, static, and class methods.\n",
    "\n",
    "8. **Duck Typing and Pythonic OOP**\n",
    "   - Overview of duck typing in Python.\n",
    "   - Writing classes that follow Pythonic principles.\n",
    "   - Leveraging dynamic typing in class design.\n",
    "\n",
    "9. **Abstract Classes and Interfaces**\n",
    "   - Defining abstract classes using the `ABC` module.\n",
    "   - Abstract methods and their role in defining interfaces.\n",
    "   - Implementing abstract classes for code structure.\n",
    "\n",
    "10. **Special Methods (Magic Methods)**\n",
    "    - Introduction to special methods in Python.\n",
    "    - Commonly used magic methods (e.g., `__str__`, `__len__`).\n",
    "    - Customizing class behavior using magic methods.\n",
    "\n",
    "11. **Decorators in Class Methods**\n",
    "    - Using decorators with class methods.\n",
    "    - Common decorators for class methods.\n",
    "    - Enhancing class functionality with decorators.\n",
    "\n",
    "12. **Real-World Examples and Best Practices**\n",
    "    - Case studies of well-designed Python classes.\n",
    "    - Best practices for class design and organization.\n",
    "    - Tips for writing maintainable and readable class-based code."
   ]
  },
  {
   "cell_type": "markdown",
   "id": "1291d4bf-84f3-43c5-b0ba-d9836fc7e3fe",
   "metadata": {
    "jp-MarkdownHeadingCollapsed": true,
    "tags": []
   },
   "source": [
    "## Introduction\n"
   ]
  },
  {
   "cell_type": "markdown",
   "id": "999c071b-ace8-447e-a0aa-fa97b8edbbf3",
   "metadata": {},
   "source": [
    "\n",
    "Introduction\n",
    "Python classes form a foundational concept in the realm of object-oriented programming (OOP), providing a powerful and versatile structure for code organization and reuse. In this blog, we will embark on a journey to understand the core principles of Python classes, exploring their significance in the context of OOP and delving into their practical applications.\n",
    "\n",
    "Brief Overview of Python Classes\n",
    "At its essence, a class in Python is a blueprint for creating objects. These objects encapsulate data (attributes) and the behaviors (methods) associated with a particular entity. Whether you're working with a simple script or a complex software project, classes empower you to model and structure your code in a way that mirrors the real-world entities your program interacts with.\n",
    "\n",
    "Importance of Object-Oriented Programming (OOP) in Python\n",
    "Python is an object-oriented programming language, and OOP is a paradigm that promotes the concept of objects—modular units that combine data and functions to operate on that data. OOP brings several advantages to the table, including:\n",
    "\n",
    "Modularity: Classes enable code modularity, allowing you to break down complex systems into manageable and reusable components.\n",
    "\n",
    "Encapsulation: With classes, you can encapsulate data within objects, restricting access to specific parts of your code and enhancing security and maintainability.\n",
    "\n",
    "Inheritance: Inheritance fosters code reuse by allowing new classes to inherit attributes and methods from existing ones, promoting a hierarchical structure.\n",
    "\n",
    "Polymorphism: OOP facilitates polymorphism, where objects of different classes can be treated as instances of a common base class, enhancing flexibility and extensibility.\n",
    "\n",
    "Purpose of Classes in Code Organization and Reuse\n",
    "Classes serve as a cornerstone for code organization and reuse. By encapsulating related functionalities within a class, you create a modular and self-contained unit. This modularity enhances code readability, maintainability, and collaborative development. Additionally, the reuse of classes across different parts of your project or even in entirely different projects promotes efficiency and reduces redundancy.\n",
    "\n",
    "In the subsequent sections of this blog, we will delve deeper into the syntax and mechanics of Python classes, exploring their various features and practical applications. Let's embark on this journey to unravel the power and versatility of Python classes in the world of object-oriented programming."
   ]
  },
  {
   "cell_type": "markdown",
   "id": "3615166c-6562-4e30-96e7-024b309f5100",
   "metadata": {
    "jp-MarkdownHeadingCollapsed": true,
    "tags": []
   },
   "source": [
    "## 1. Basics of Python Classes\n"
   ]
  },
  {
   "cell_type": "markdown",
   "id": "132faf7f-1a83-4074-9c2a-024f49f99944",
   "metadata": {},
   "source": [
    "### Definition of a Class\n",
    "\n",
    "In Python, a class is a blueprint for creating objects. It encapsulates data (attributes) and functions (methods) that operate on that data. It provides a way to structure and organize code in an object-oriented paradigm."
   ]
  },
  {
   "cell_type": "code",
   "execution_count": 1,
   "id": "98c3fdcc-7fc4-4720-845b-d58dfda799f2",
   "metadata": {
    "tags": []
   },
   "outputs": [],
   "source": [
    "# Here's a simple example of a class definition:\n",
    "\n",
    "class MyClass:\n",
    "    # Class body\n",
    "    pass\n"
   ]
  },
  {
   "cell_type": "markdown",
   "id": "80ca7f14-5345-4ab3-b216-0635ae324b7d",
   "metadata": {},
   "source": [
    "In this example, MyClass is the name of the class. The class body can include attributes and methods, defining the behavior of objects created from this class.\n",
    "\n"
   ]
  },
  {
   "cell_type": "markdown",
   "id": "679c40f8-711b-45d7-b8d7-eed2d1324fe1",
   "metadata": {},
   "source": [
    "### Syntax for Creating a Class\n",
    "\n",
    "The syntax for creating a class involves using the class keyword followed by the class name and a colon. The class body, where attributes and methods are defined, is indented.\n",
    "\n"
   ]
  },
  {
   "cell_type": "code",
   "execution_count": 2,
   "id": "27c8fb5b-b6b9-4999-85ff-834f3dc32518",
   "metadata": {
    "tags": []
   },
   "outputs": [],
   "source": [
    "class MyClass:\n",
    "    attribute1 = \"Hello\"\n",
    "    attribute2 = 42\n",
    "\n",
    "    def my_method(self):\n",
    "        print(\"This is a method\")\n"
   ]
  },
  {
   "cell_type": "markdown",
   "id": "978e30ec-172c-4c0c-831e-d48b1af45b51",
   "metadata": {
    "tags": []
   },
   "source": [
    "In this example, attribute1 and attribute2 are class attributes, and my_method is a method defined inside the class."
   ]
  },
  {
   "cell_type": "markdown",
   "id": "9a5c2b04-ad14-48f1-99e2-062c47d44e80",
   "metadata": {},
   "source": [
    "### Creating Instances (Objects) of a Class\n",
    "\n",
    "Once a class is defined, you can create instances (objects) of that class. An instance represents a specific occurrence or realization of the class.\n",
    "\n"
   ]
  },
  {
   "cell_type": "code",
   "execution_count": 5,
   "id": "3e81cb48-fe96-4411-a4c2-83ad2f982daa",
   "metadata": {
    "tags": []
   },
   "outputs": [],
   "source": [
    "# Creating an instance of MyClass\n",
    "my_instance = MyClass()\n"
   ]
  },
  {
   "cell_type": "markdown",
   "id": "69148e3f-e4c3-47b2-b8f6-8f6f6f8debed",
   "metadata": {},
   "source": [
    "In this example, my_instance is an object created from the MyClass class. You can then access attributes and call methods on this instance.\n",
    "\n"
   ]
  },
  {
   "cell_type": "code",
   "execution_count": 6,
   "id": "5bcdbad1-39b0-4603-9204-da9c3aac0278",
   "metadata": {
    "tags": []
   },
   "outputs": [
    {
     "name": "stdout",
     "output_type": "stream",
     "text": [
      "Hello\n",
      "This is a method\n"
     ]
    }
   ],
   "source": [
    "# Accessing attributes\n",
    "print(my_instance.attribute1)  # Output: Hello\n",
    "\n",
    "# Calling a method\n",
    "my_instance.my_method()  # Output: This is a method\n"
   ]
  },
  {
   "cell_type": "markdown",
   "id": "7fa02387-84fb-469a-a7f6-d02e2e0ea9ef",
   "metadata": {
    "jp-MarkdownHeadingCollapsed": true,
    "tags": []
   },
   "source": [
    "## 2. Attributes and Methods"
   ]
  },
  {
   "cell_type": "markdown",
   "id": "626e63c8-5c70-4ef0-a235-121efc9bf3ff",
   "metadata": {
    "jp-MarkdownHeadingCollapsed": true,
    "tags": []
   },
   "source": [
    "### Attributes\n",
    "Attributes in Python classes represent the characteristics or data associated with the class. There are two main types of attributes: class variables and instance variables.\n",
    "\n",
    "Class Variables:\n",
    "\n",
    "- Class variables are shared among all instances of a class.\n",
    "- They are defined outside any method in the class.\n",
    "- Commonly used for values that are constant across all instances."
   ]
  },
  {
   "cell_type": "code",
   "execution_count": 7,
   "id": "b0ec1b85-bfd1-4a2f-872a-55b7727185a4",
   "metadata": {
    "tags": []
   },
   "outputs": [
    {
     "name": "stdout",
     "output_type": "stream",
     "text": [
      "I'm a class variable\n"
     ]
    }
   ],
   "source": [
    "class MyClass:\n",
    "    class_variable = \"I'm a class variable\"\n",
    "\n",
    "# Accessing a class variable\n",
    "print(MyClass.class_variable)\n"
   ]
  },
  {
   "cell_type": "markdown",
   "id": "41b0608a-1331-4532-b23f-b9def7aa83ef",
   "metadata": {
    "jp-MarkdownHeadingCollapsed": true,
    "tags": []
   },
   "source": [
    "### Instance Variables\n",
    "\n",
    "- Instance variables are unique to each instance of a class.\n",
    "- They are defined within methods using the self keyword.\n",
    "- Each instance maintains its own copy of these variables."
   ]
  },
  {
   "cell_type": "code",
   "execution_count": 8,
   "id": "de0be8d9-4098-4b9d-8e61-cb8da8b209ce",
   "metadata": {
    "tags": []
   },
   "outputs": [
    {
     "name": "stdout",
     "output_type": "stream",
     "text": [
      "Instance 1\n",
      "Instance 2\n"
     ]
    }
   ],
   "source": [
    "class MyClass:\n",
    "    def __init__(self, instance_variable):\n",
    "        self.instance_variable = instance_variable\n",
    "\n",
    "# Creating instances and accessing instance variables\n",
    "obj1 = MyClass(\"Instance 1\")\n",
    "obj2 = MyClass(\"Instance 2\")\n",
    "print(obj1.instance_variable)\n",
    "print(obj2.instance_variable)\n"
   ]
  },
  {
   "cell_type": "markdown",
   "id": "578b744e-73a6-459f-9497-cc16b8a67c9f",
   "metadata": {
    "jp-MarkdownHeadingCollapsed": true,
    "tags": []
   },
   "source": [
    "### Defining Methods Inside a Class\n",
    "\n",
    "Methods in a class are functions that perform actions or operations related to the class. They are defined using the def keyword.\n",
    "\n"
   ]
  },
  {
   "cell_type": "code",
   "execution_count": 9,
   "id": "a849b6ed-7111-4f6c-81e0-9af98918746e",
   "metadata": {
    "tags": []
   },
   "outputs": [
    {
     "name": "stdout",
     "output_type": "stream",
     "text": [
      "This is an example method\n"
     ]
    }
   ],
   "source": [
    "class MyClass:\n",
    "    def example_method(self):\n",
    "        # Code for the method\n",
    "        print(\"This is an example method\")\n",
    "\n",
    "# Creating an instance and calling the method\n",
    "obj = MyClass()\n",
    "obj.example_method()\n"
   ]
  },
  {
   "cell_type": "markdown",
   "id": "ded05b0d-6226-4849-8018-0084529999ac",
   "metadata": {},
   "source": [
    "### The self Parameter and Its Significance\n",
    "\n",
    "- In Python, the first parameter of a method is always self.\n",
    "- self refers to the instance of the class and allows access to its attributes and other methods.\n",
    "- It is a convention, and you can name it differently, but using self is widely accepted.\n"
   ]
  },
  {
   "cell_type": "code",
   "execution_count": 10,
   "id": "a5dee084-d947-4f07-973a-ec50bfb1ac65",
   "metadata": {
    "tags": []
   },
   "outputs": [
    {
     "name": "stdout",
     "output_type": "stream",
     "text": [
      "This method accesses the attribute: Example Attribute\n"
     ]
    }
   ],
   "source": [
    "class MyClass:\n",
    "    def __init__(self, attribute):\n",
    "        self.attribute = attribute\n",
    "\n",
    "    def example_method(self):\n",
    "        print(f\"This method accesses the attribute: {self.attribute}\")\n",
    "\n",
    "# Creating an instance and using the self parameter\n",
    "obj = MyClass(\"Example Attribute\")\n",
    "obj.example_method()\n"
   ]
  },
  {
   "cell_type": "markdown",
   "id": "16536e6c-8cde-474b-9bb2-5092e2278aff",
   "metadata": {
    "jp-MarkdownHeadingCollapsed": true,
    "tags": []
   },
   "source": [
    "## 3. Constructors and Destructors\n"
   ]
  },
  {
   "cell_type": "markdown",
   "id": "bb9ccd68-b7e3-4d7c-a15b-29fc4638497a",
   "metadata": {},
   "source": [
    "### Introduction to the __init__ Method (Constructor)\n",
    "\n",
    "In Python, a constructor is a special method called __init__. It is automatically invoked when an object of a class is created. The primary purpose of the constructor is to initialize the attributes of the object. By defining the __init__ method within a class, you can ensure that specific actions are taken as soon as an object is instantiated.\n",
    "\n"
   ]
  },
  {
   "cell_type": "code",
   "execution_count": 11,
   "id": "a9b5f50b-19d9-4f09-bbbe-c633afad46dc",
   "metadata": {
    "tags": []
   },
   "outputs": [],
   "source": [
    "class MyClass:\n",
    "    def __init__(self, parameter1, parameter2):\n",
    "        # Initialization code here\n",
    "        self.attribute1 = parameter1\n",
    "        self.attribute2 = parameter2\n"
   ]
  },
  {
   "cell_type": "markdown",
   "id": "679d3a13-6ab5-4f14-b8fa-89eafc58eefd",
   "metadata": {},
   "source": [
    "In the above example, __init__ takes two parameters (self is a reference to the instance being created), and it initializes attribute1 and attribute2 with the values passed during object creation.\n",
    "\n"
   ]
  },
  {
   "cell_type": "markdown",
   "id": "64164bf5-2f60-46ac-9799-c7dfb3ce9fb5",
   "metadata": {},
   "source": [
    "### Purpose of Initialization in the Constructor\n",
    "\n",
    "The initialization performed in the constructor is crucial for setting up the initial state of an object. It allows you to define how an object should behave or what attributes it should have when it comes into existence. This step is fundamental for creating instances with specific characteristics, making the object ready for use.\n",
    "\n"
   ]
  },
  {
   "cell_type": "code",
   "execution_count": 13,
   "id": "f6007600-f83b-42a7-9b5d-3076b2d8a203",
   "metadata": {
    "tags": []
   },
   "outputs": [],
   "source": [
    "obj = MyClass(value1, value2)"
   ]
  },
  {
   "cell_type": "markdown",
   "id": "7120d0b4-1caa-4738-a45f-f5f16d3e7c96",
   "metadata": {},
   "source": [
    "When the above code is executed, the __init__ method is automatically called, and obj is initialized with the specified values.\n",
    "\n"
   ]
  },
  {
   "cell_type": "markdown",
   "id": "b7844981-cd01-4617-91f7-96d4a58215de",
   "metadata": {},
   "source": [
    "### The __del__ Method (Destructor) and Its Usage\n",
    "\n",
    "While Python handles memory management automatically through garbage collection, the __del__ method provides a way to define custom cleanup actions before an object is destroyed. However, it's essential to note that the __del__ method is not always predictable, and relying on it for critical cleanup tasks is discouraged.\n",
    "\n"
   ]
  },
  {
   "cell_type": "code",
   "execution_count": 16,
   "id": "b9b6c9c5-ee35-4fc4-ae58-98027eca1a73",
   "metadata": {
    "tags": []
   },
   "outputs": [],
   "source": [
    "class MyClass:\n",
    "    def __del__(self):\n",
    "        # Cleanup code here\n",
    "        print(\"Object is about to be destroyed\")\n",
    "\n",
    "# Creating an object\n",
    "obj = MyClass()\n",
    "\n",
    "# Object destruction may happen at an unpredictable time\n",
    "# The __del__ method may or may not be called explicitly\n"
   ]
  },
  {
   "cell_type": "markdown",
   "id": "af3c17d2-31e7-47ea-b022-4f1769e5342f",
   "metadata": {},
   "source": [
    "In the above example, the __del__ method prints a message when the object is about to be destroyed. Keep in mind that relying on this method for critical cleanup is not recommended due to its unpredictable behavior.\n",
    "\n"
   ]
  },
  {
   "cell_type": "markdown",
   "id": "ff3d4e08-c3b0-4fd2-96a7-182a4f57d792",
   "metadata": {
    "jp-MarkdownHeadingCollapsed": true,
    "tags": []
   },
   "source": [
    "## 4. Inheritance and Polymorphism"
   ]
  },
  {
   "cell_type": "markdown",
   "id": "8e00e3f3-4090-498c-8c32-e834294c4c24",
   "metadata": {},
   "source": [
    "### Inheritance:\n",
    "\n",
    "Inheritance is a fundamental concept in object-oriented programming (OOP) that allows a new class, called the subclass or derived class, to inherit attributes and methods from an existing class, known as the superclass or base class. This enables the subclass to reuse and extend the functionality of the superclass.\n",
    "\n",
    "Syntax for Inheritance"
   ]
  },
  {
   "cell_type": "code",
   "execution_count": 17,
   "id": "2c803660-f1e2-450e-adf5-4133a602efb3",
   "metadata": {
    "tags": []
   },
   "outputs": [
    {
     "ename": "IndentationError",
     "evalue": "expected an indented block (1071557307.py, line 4)",
     "output_type": "error",
     "traceback": [
      "\u001b[1;36m  Cell \u001b[1;32mIn[17], line 4\u001b[1;36m\u001b[0m\n\u001b[1;33m    class DerivedClass(BaseClass):\u001b[0m\n\u001b[1;37m    ^\u001b[0m\n\u001b[1;31mIndentationError\u001b[0m\u001b[1;31m:\u001b[0m expected an indented block\n"
     ]
    }
   ],
   "source": [
    "class BaseClass:\n",
    "    # Base class definition\n",
    "\n",
    "class DerivedClass(BaseClass):\n",
    "    # Derived class inheriting from BaseClass\n"
   ]
  },
  {
   "cell_type": "markdown",
   "id": "e180cf7f-4704-4769-b040-799a04f3f6b7",
   "metadata": {
    "tags": []
   },
   "source": [
    "Benefits of Inheritance:\n",
    "\n",
    "- Code Reusability: Reuse attributes and methods from existing classes.\n",
    "- Modularity: Organize code into logical and manageable units.\n"
   ]
  },
  {
   "cell_type": "markdown",
   "id": "8c5b21ca-2077-40c3-bdd7-6d6ed2819521",
   "metadata": {},
   "source": [
    "### Polymorphism:\n",
    "\n",
    "Polymorphism allows objects of different classes to be treated as objects of a common base class. This provides a way for different classes to implement their own versions of methods, resulting in polymorphic behavior.\n",
    "\n",
    "Method Overriding:\n",
    "\n",
    "- In the derived class, a method with the same name as the one in the base class is defined.\n",
    "- The method in the derived class overrides the method in the base class.\n"
   ]
  },
  {
   "cell_type": "code",
   "execution_count": 20,
   "id": "93924a52-9ec9-4e81-ac41-a7d9c7e4b843",
   "metadata": {
    "tags": []
   },
   "outputs": [],
   "source": [
    "class BaseClass:\n",
    "    def some_method(self):\n",
    "        print(\"BaseClass method\")\n",
    "\n",
    "class DerivedClass(BaseClass):\n",
    "    def some_method(self):\n",
    "        print(\"DerivedClass method\")\n"
   ]
  },
  {
   "cell_type": "markdown",
   "id": "23604145-6a0b-4786-ab2e-0124d14837d5",
   "metadata": {},
   "source": [
    "Achieving Polymorphism:\n",
    "\n",
    "- Objects of different classes can be treated as objects of a common base class.\n",
    "- Method calls on these objects result in polymorphic behavior based on the actual class of the object."
   ]
  },
  {
   "cell_type": "markdown",
   "id": "1d00103f-1b2f-4d8f-b38e-c64b4b1dca9f",
   "metadata": {},
   "source": [
    "### Using the super() Function:\n",
    "\n",
    "The super() function is used to call a method from the parent class within the context of the child class. This is particularly useful when overriding methods and wanting to invoke the behavior of the parent class."
   ]
  },
  {
   "cell_type": "code",
   "execution_count": 21,
   "id": "2719039f-d7a5-4a82-b79f-23e38f70d629",
   "metadata": {
    "tags": []
   },
   "outputs": [],
   "source": [
    "class DerivedClass(BaseClass):\n",
    "    def some_method(self):\n",
    "        # Additional actions specific to DerivedClass\n",
    "        super().some_method()  # Calling the method from BaseClass\n"
   ]
  },
  {
   "cell_type": "markdown",
   "id": "9cef1709-af70-485a-b299-e342fcaae8b2",
   "metadata": {},
   "source": [
    "### Example:\n",
    "Consider a scenario where you have a base class Animal and derived classes Dog and Cat. The speak method is overridden in each derived class to demonstrate polymorphism:\n",
    "\n"
   ]
  },
  {
   "cell_type": "code",
   "execution_count": 22,
   "id": "a840d7e7-3156-4299-b08c-2b8091f3c925",
   "metadata": {
    "tags": []
   },
   "outputs": [
    {
     "name": "stdout",
     "output_type": "stream",
     "text": [
      "Woof!\n",
      "Meow!\n"
     ]
    }
   ],
   "source": [
    "class Animal:\n",
    "    def speak(self):\n",
    "        pass  # Abstract method\n",
    "\n",
    "class Dog(Animal):\n",
    "    def speak(self):\n",
    "        return \"Woof!\"\n",
    "\n",
    "class Cat(Animal):\n",
    "    def speak(self):\n",
    "        return \"Meow!\"\n",
    "\n",
    "# Usage\n",
    "dog = Dog()\n",
    "cat = Cat()\n",
    "\n",
    "print(dog.speak())  # Output: Woof!\n",
    "print(cat.speak())  # Output: Meow!\n"
   ]
  },
  {
   "cell_type": "markdown",
   "id": "dace8624-584d-4ad6-8bc7-4122bd263b3d",
   "metadata": {},
   "source": [
    "In this example, speak is a polymorphic method overridden in both Dog and Cat classes, showcasing the flexibility and versatility of polymorphism.\n",
    "\n"
   ]
  },
  {
   "cell_type": "markdown",
   "id": "17b48426-3869-489f-8b96-4723c73b601c",
   "metadata": {
    "jp-MarkdownHeadingCollapsed": true,
    "tags": []
   },
   "source": [
    "## 5. Encapsulation in Python Classes"
   ]
  },
  {
   "cell_type": "markdown",
   "id": "2ffe43df-d17d-4a00-a3ac-6daa6c13928a",
   "metadata": {},
   "source": [
    "Encapsulation is one of the fundamental principles of object-oriented programming (OOP) that involves bundling data (attributes) and the methods that operate on the data within a single unit, known as a class. This unit encapsulates the data, preventing direct access from outside the class and promoting data integrity.\n",
    "\n",
    "Public, Private, and Protected Attributes and Methods\n"
   ]
  },
  {
   "cell_type": "markdown",
   "id": "9751f266-c442-4d41-9cd5-3634e0c02add",
   "metadata": {
    "jp-MarkdownHeadingCollapsed": true,
    "tags": []
   },
   "source": [
    "### Public Attributes and Methods:\n",
    "\n",
    "Public attributes and methods are accessible from outside the class.\n"
   ]
  },
  {
   "cell_type": "code",
   "execution_count": 23,
   "id": "7fdf321d-a5e0-4dbf-b0e0-f55dc8bc8abf",
   "metadata": {
    "tags": []
   },
   "outputs": [],
   "source": [
    "# Syntex\n",
    "class MyClass:\n",
    "    public_attribute = \"I'm public\"\n",
    "    \n",
    "    def public_method(self):\n",
    "        return \"This method is public\"\n"
   ]
  },
  {
   "cell_type": "code",
   "execution_count": 24,
   "id": "8da174b7-a8fa-40f6-9ba2-5786f4e957ad",
   "metadata": {
    "tags": []
   },
   "outputs": [
    {
     "name": "stdout",
     "output_type": "stream",
     "text": [
      "Object is about to be destroyed\n",
      "I'm public\n",
      "This method is public\n"
     ]
    }
   ],
   "source": [
    "# Access:\n",
    "obj = MyClass()\n",
    "print(obj.public_attribute)    # Accessing public attribute\n",
    "print(obj.public_method())     # Calling public method\n"
   ]
  },
  {
   "cell_type": "markdown",
   "id": "250942c5-cea3-41cf-a47c-057ec3b4462d",
   "metadata": {
    "jp-MarkdownHeadingCollapsed": true,
    "tags": []
   },
   "source": [
    "### Private Attributes and Methods:\n",
    "\n",
    "Private attributes and methods are indicated by a double underscore (__) prefix."
   ]
  },
  {
   "cell_type": "code",
   "execution_count": 28,
   "id": "ebfd4a28-c443-4928-ad5d-a35065839404",
   "metadata": {
    "tags": []
   },
   "outputs": [],
   "source": [
    "# Syntax\n",
    "class MyClass:\n",
    "    __private_attribute = \"I'm private\"\n",
    "    \n",
    "    def __private_method(self):\n",
    "        return \"This method is private\"\n"
   ]
  },
  {
   "cell_type": "code",
   "execution_count": 29,
   "id": "27d8e912-e12e-4491-b17e-ebbf584b3652",
   "metadata": {
    "tags": []
   },
   "outputs": [
    {
     "ename": "AttributeError",
     "evalue": "'MyClass' object has no attribute '__private_attribute'",
     "output_type": "error",
     "traceback": [
      "\u001b[1;31m---------------------------------------------------------------------------\u001b[0m",
      "\u001b[1;31mAttributeError\u001b[0m                            Traceback (most recent call last)",
      "Cell \u001b[1;32mIn[29], line 4\u001b[0m\n\u001b[0;32m      2\u001b[0m obj \u001b[38;5;241m=\u001b[39m MyClass()\n\u001b[0;32m      3\u001b[0m \u001b[38;5;66;03m# Accessing private attribute or calling private method raises an error\u001b[39;00m\n\u001b[1;32m----> 4\u001b[0m \u001b[38;5;28mprint\u001b[39m(\u001b[43mobj\u001b[49m\u001b[38;5;241;43m.\u001b[39;49m\u001b[43m__private_attribute\u001b[49m)\n\u001b[0;32m      5\u001b[0m \u001b[38;5;28mprint\u001b[39m(obj\u001b[38;5;241m.\u001b[39m__private_method())\n",
      "\u001b[1;31mAttributeError\u001b[0m: 'MyClass' object has no attribute '__private_attribute'"
     ]
    }
   ],
   "source": [
    "# Access\n",
    "obj = MyClass()\n",
    "# Accessing private attribute or calling private method raises an error\n",
    "print(obj.__private_attribute)\n",
    "print(obj.__private_method())\n"
   ]
  },
  {
   "cell_type": "markdown",
   "id": "158a58ef-93e6-47d8-9bce-58614fddfbf3",
   "metadata": {
    "jp-MarkdownHeadingCollapsed": true,
    "tags": []
   },
   "source": [
    "### Protected Attributes and Methods:\n",
    "\n",
    "Protected attributes and methods are indicated by a single underscore (_) prefix.\n"
   ]
  },
  {
   "cell_type": "code",
   "execution_count": 30,
   "id": "4f3729f8-f468-4d31-8baa-88d6f6b67ebe",
   "metadata": {
    "tags": []
   },
   "outputs": [],
   "source": [
    "# Syntax\n",
    "class MyClass:\n",
    "    _protected_attribute = \"I'm protected\"\n",
    "    \n",
    "    def _protected_method(self):\n",
    "        return \"This method is protected\"\n"
   ]
  },
  {
   "cell_type": "code",
   "execution_count": 31,
   "id": "cf6f7eb4-162e-4998-baca-62cce661087b",
   "metadata": {
    "tags": []
   },
   "outputs": [
    {
     "name": "stdout",
     "output_type": "stream",
     "text": [
      "I'm protected\n",
      "This method is protected\n"
     ]
    }
   ],
   "source": [
    "# Access\n",
    "obj = MyClass()\n",
    "print(obj._protected_attribute)    # Accessing protected attribute\n",
    "print(obj._protected_method())     # Calling protected method\n"
   ]
  },
  {
   "cell_type": "markdown",
   "id": "91378ee8-8438-4b69-81b3-832e3a914edf",
   "metadata": {
    "jp-MarkdownHeadingCollapsed": true,
    "tags": []
   },
   "source": [
    "### Getter and Setter Methods for Controlled Access\n",
    "In Python, getter and setter methods are used to control access to attributes, especially private ones.\n",
    "\n"
   ]
  },
  {
   "cell_type": "markdown",
   "id": "94b69cec-ba57-4148-a84e-c1ecf9b4d1da",
   "metadata": {
    "jp-MarkdownHeadingCollapsed": true,
    "tags": []
   },
   "source": [
    "### Getter Method:\n",
    "\n",
    "Retrieves the value of a private attribute.\n",
    "\n"
   ]
  },
  {
   "cell_type": "code",
   "execution_count": 32,
   "id": "a669a7cf-28c7-400c-8fa2-925aac258668",
   "metadata": {
    "tags": []
   },
   "outputs": [],
   "source": [
    "# Syntax\n",
    "class MyClass:\n",
    "    def __init__(self):\n",
    "        self.__private_attribute = \"I'm private\"\n",
    "        \n",
    "    def get_private_attribute(self):\n",
    "        return self.__private_attribute\n"
   ]
  },
  {
   "cell_type": "code",
   "execution_count": 33,
   "id": "ff42a2fa-c426-4dd8-b662-acb451e44dd2",
   "metadata": {
    "tags": []
   },
   "outputs": [
    {
     "name": "stdout",
     "output_type": "stream",
     "text": [
      "I'm private\n"
     ]
    }
   ],
   "source": [
    "# Access\n",
    "obj = MyClass()\n",
    "print(obj.get_private_attribute())    # Using getter method\n"
   ]
  },
  {
   "cell_type": "markdown",
   "id": "31dc8744-3daa-4f85-bc7f-c0d97b97373f",
   "metadata": {
    "jp-MarkdownHeadingCollapsed": true,
    "tags": []
   },
   "source": [
    "### Setter Method:\n",
    "\n",
    "Modifies the value of a private attribute.\n"
   ]
  },
  {
   "cell_type": "code",
   "execution_count": 34,
   "id": "8be47598-2bed-49a9-84d1-72ed3dd3b7a7",
   "metadata": {
    "tags": []
   },
   "outputs": [],
   "source": [
    "# Syntax\n",
    "class MyClass:\n",
    "    def __init__(self):\n",
    "        self.__private_attribute = \"I'm private\"\n",
    "        \n",
    "    def set_private_attribute(self, new_value):\n",
    "        self.__private_attribute = new_value\n"
   ]
  },
  {
   "cell_type": "code",
   "execution_count": 35,
   "id": "abc71e26-e696-4d47-abd4-1ce6e29471ed",
   "metadata": {
    "tags": []
   },
   "outputs": [],
   "source": [
    "# Access\n",
    "obj = MyClass()\n",
    "obj.set_private_attribute(\"New value\")    # Using setter method\n"
   ]
  },
  {
   "cell_type": "markdown",
   "id": "4dd0fd43-fc7f-41ab-8ffb-55ab2b5a225a",
   "metadata": {
    "jp-MarkdownHeadingCollapsed": true,
    "tags": []
   },
   "source": [
    "## 6. Class and Instance Variables"
   ]
  },
  {
   "cell_type": "markdown",
   "id": "0540f411-6439-496a-81ec-40d756717c71",
   "metadata": {},
   "source": [
    "In Python, class and instance variables play crucial roles in organizing and managing data within a class. Understanding the difference between them is essential for effective object-oriented programming.\n",
    "\n"
   ]
  },
  {
   "cell_type": "markdown",
   "id": "91b04207-a531-4f48-940d-521cbd05677c",
   "metadata": {},
   "source": [
    "### Class Variables:\n",
    "Definition: Class variables are shared among all instances of a class.\n",
    "\n",
    "Declaration: They are defined outside any method in the class.\n",
    "\n",
    "Use Cases:\n",
    "\n",
    "- Storing data shared by all instances of the class.\n",
    "- Representing constants or configuration settings."
   ]
  },
  {
   "cell_type": "code",
   "execution_count": 36,
   "id": "288707f7-8701-4e22-964f-427d0412a01f",
   "metadata": {
    "tags": []
   },
   "outputs": [
    {
     "name": "stdout",
     "output_type": "stream",
     "text": [
      "Canine\n"
     ]
    }
   ],
   "source": [
    "class Dog:\n",
    "    species = \"Canine\"  # Class variable\n",
    "\n",
    "    def __init__(self, name):\n",
    "        self.name = name  # Instance variable\n",
    "\n",
    "# Accessing class variable\n",
    "print(Dog.species)  # Output: Canine\n"
   ]
  },
  {
   "cell_type": "markdown",
   "id": "051cecf5-b3b5-4c92-9348-67703c9c9f8f",
   "metadata": {},
   "source": [
    "Modification:\n",
    "\n",
    "- Class variables can be modified using the class name.\n",
    "- Changes affect all instances and future instances of the class.\n"
   ]
  },
  {
   "cell_type": "code",
   "execution_count": 37,
   "id": "f059d188-1c6c-462a-bd86-25711d7aff3d",
   "metadata": {
    "tags": []
   },
   "outputs": [
    {
     "name": "stdout",
     "output_type": "stream",
     "text": [
      "Domestic Dog\n",
      "Domestic Dog\n"
     ]
    }
   ],
   "source": [
    "Dog.species = \"Domestic Dog\"\n",
    "print(Dog.species)  # Output: Domestic Dog\n",
    "\n",
    "# New instances will have the updated class variable value\n",
    "new_dog = Dog(\"Buddy\")\n",
    "print(new_dog.species)  # Output: Domestic Dog\n"
   ]
  },
  {
   "cell_type": "markdown",
   "id": "f5948fab-1437-4c3f-82a9-cdf056f9328a",
   "metadata": {},
   "source": [
    "### Instance Variables:\n",
    "Definition: Instance variables are specific to each instance of a class.\n",
    "\n",
    "Declaration: They are defined inside the class constructor (__init__) using self.\n",
    "\n",
    "Use Cases:\n",
    "\n",
    "- Storing data unique to each object created from the class.\n",
    "- Capturing the state or characteristics of an individual instance."
   ]
  },
  {
   "cell_type": "code",
   "execution_count": 38,
   "id": "f4ac8d27-7598-455b-b658-6c7f1c217bd2",
   "metadata": {
    "tags": []
   },
   "outputs": [
    {
     "name": "stdout",
     "output_type": "stream",
     "text": [
      "Toyota Camry\n",
      "Honda Civic\n"
     ]
    }
   ],
   "source": [
    "class Car:\n",
    "    def __init__(self, make, model):\n",
    "        self.make = make  # Instance variable\n",
    "        self.model = model  # Instance variable\n",
    "\n",
    "# Creating instances with different instance variable values\n",
    "car1 = Car(\"Toyota\", \"Camry\")\n",
    "car2 = Car(\"Honda\", \"Civic\")\n",
    "\n",
    "print(car1.make, car1.model)  # Output: Toyota Camry\n",
    "print(car2.make, car2.model)  # Output: Honda Civic\n"
   ]
  },
  {
   "cell_type": "markdown",
   "id": "e4309ef7-0e4d-4129-a3a2-09aead355488",
   "metadata": {},
   "source": [
    "Modification:\n",
    "\n",
    "- Instance variables are modified using the instance name.\n",
    "- Changes are specific to the individual instance.\n"
   ]
  },
  {
   "cell_type": "code",
   "execution_count": 39,
   "id": "3230065c-850d-42d1-b251-f3efecc9026d",
   "metadata": {
    "tags": []
   },
   "outputs": [
    {
     "name": "stdout",
     "output_type": "stream",
     "text": [
      "Ford Camry\n",
      "Honda Civic\n"
     ]
    }
   ],
   "source": [
    "car1.make = \"Ford\"\n",
    "print(car1.make, car1.model)  # Output: Ford Camry\n",
    "\n",
    "# Instance variables of other instances remain unchanged\n",
    "print(car2.make, car2.model)  # Output: Honda Civic\n"
   ]
  },
  {
   "cell_type": "markdown",
   "id": "514d23a1-de4c-46ca-8ebb-56d19a04d7d4",
   "metadata": {},
   "source": [
    "### Impact of Modifying Class Variables:\n",
    "- When a class variable is modified, the change is reflected across all instances and future instances of the class.\n",
    "- It's important to be cautious when modifying class variables to avoid unintended consequences in a program.\n"
   ]
  },
  {
   "cell_type": "markdown",
   "id": "367a93d5-1615-40e5-8568-17506974fcc8",
   "metadata": {
    "jp-MarkdownHeadingCollapsed": true,
    "tags": []
   },
   "source": [
    "## 7. Static Methods and Class Methods\n"
   ]
  },
  {
   "cell_type": "markdown",
   "id": "1782fb71-b1a7-4c56-8fbf-36c1befba62c",
   "metadata": {},
   "source": [
    "### Static Methods:\n",
    "\n",
    "- Defined using the @staticmethod decorator.\n",
    "- Do not have access to the instance or class itself (no self or cls parameter by convention).\n",
    "- Primarily operate on the arguments passed to them.\n",
    "\n",
    "### Use Cases for Static Methods:\n",
    "\n",
    "- When a method doesn't need access to the instance or class.\n",
    "- Utility functions related to the class but not dependent on its state.\n",
    "- Examples: Conversion functions, simple calculations, etc.\n"
   ]
  },
  {
   "cell_type": "code",
   "execution_count": 43,
   "id": "223f3a0d-dde2-4c77-9f9b-05541cf2498e",
   "metadata": {
    "tags": []
   },
   "outputs": [],
   "source": [
    "class MathOperations:\n",
    "    @staticmethod\n",
    "    def add(x, y):\n",
    "        return x + y\n",
    "\n",
    "    @staticmethod\n",
    "    def multiply(x, y):\n",
    "        return x * y\n",
    "\n",
    "result = MathOperations.add(3, 5)\n"
   ]
  },
  {
   "cell_type": "code",
   "execution_count": 44,
   "id": "c07971ab-2d3f-4e68-8ae9-e2624f6ae311",
   "metadata": {
    "tags": []
   },
   "outputs": [
    {
     "data": {
      "text/plain": [
       "8"
      ]
     },
     "execution_count": 44,
     "metadata": {},
     "output_type": "execute_result"
    }
   ],
   "source": [
    "result"
   ]
  },
  {
   "cell_type": "markdown",
   "id": "4adc459a-dc47-42e3-a12d-1dff77b640f2",
   "metadata": {},
   "source": [
    "### Class Methods:\n",
    "\n",
    "- Defined using the @classmethod decorator.\n",
    "- Have access to the class itself through the cls parameter.\n",
    "- Can be used for operations that involve the class but not a specific instance.\n",
    "\n",
    "### @classmethod Decorator:\n",
    "\n",
    "- Used to define a class method.\n",
    "- The first parameter is conventionally named cls."
   ]
  },
  {
   "cell_type": "code",
   "execution_count": 45,
   "id": "9899a5ad-d5f6-498b-a660-b2e53df35b39",
   "metadata": {
    "tags": []
   },
   "outputs": [],
   "source": [
    "class MyClass:\n",
    "    class_variable = \"I am a class variable\"\n",
    "\n",
    "    @classmethod\n",
    "    def print_class_variable(cls):\n",
    "        print(cls.class_variable)\n"
   ]
  },
  {
   "cell_type": "markdown",
   "id": "2c221b90-cdd8-432e-a1d3-e1717acad7e4",
   "metadata": {
    "tags": []
   },
   "source": [
    "### Differences Between Instance, Static, and Class Methods:\n",
    "\n",
    "### Instance Methods:\n",
    "\n",
    "- Operate on an instance of the class.\n",
    "- Have access to the instance through the self parameter.\n",
    "- Can modify the instance state.\n",
    "\n",
    "### Static Methods:\n",
    "\n",
    "- Do not have access to the instance (self) or class (cls).\n",
    "- Defined using @staticmethod.\n",
    "- Primarily operate on the arguments passed.\n",
    "\n",
    "### Class Methods:\n",
    "\n",
    "- Have access to the class itself through the cls parameter.\n",
    "- Defined using @classmethod.\n",
    "- Useful for operations involving the class but not a specific instance.\n"
   ]
  },
  {
   "cell_type": "code",
   "execution_count": 51,
   "id": "581de52f-222c-40a5-90b3-32c7a0beb9f0",
   "metadata": {
    "tags": []
   },
   "outputs": [],
   "source": [
    "class Example:\n",
    "    class_variable = \"I am a class variable\"\n",
    "\n",
    "    def __init__(self, instance_variable):\n",
    "        self.instance_variable = instance_variable\n",
    "\n",
    "    def instance_method(self):\n",
    "        print(f\"Instance method: {self.instance_variable}\")\n",
    "\n",
    "    @staticmethod\n",
    "    def static_method():\n",
    "        print(\"Static method\")\n",
    "\n",
    "    @classmethod\n",
    "    def class_method(cls):\n",
    "        print(f\"Class method: {cls.class_variable}\")\n"
   ]
  },
  {
   "cell_type": "markdown",
   "id": "b53756b6-fcee-4cac-8324-16a09e07ca84",
   "metadata": {
    "jp-MarkdownHeadingCollapsed": true,
    "tags": []
   },
   "source": [
    "## 8. Duck Typing and Pythonic OOP\n"
   ]
  },
  {
   "cell_type": "markdown",
   "id": "a1418695-649d-41f2-95a4-a2d808b712e0",
   "metadata": {},
   "source": [
    "### Duck Typing\n",
    "\n",
    "Duck typing is a programming concept in Python that emphasizes the importance of an object's behavior over its type. The term \"duck typing\" comes from the saying, \"If it looks like a duck, swims like a duck, and quacks like a duck, then it probably is a duck.\" In Python, this means focusing on what methods an object has rather than its specific class or type.\n",
    "\n",
    "### Key Features of Duck Typing\n",
    "- Behavior-Centric: Duck typing relies on the presence of specific methods or behaviors rather than explicit type declarations.\n",
    "- Run-Time Checking: Type checking occurs at runtime based on the methods used, promoting flexibility and adaptability.\n"
   ]
  },
  {
   "cell_type": "code",
   "execution_count": 58,
   "id": "f261f1fc-ac1f-4521-9ce8-a656860942cf",
   "metadata": {
    "tags": []
   },
   "outputs": [
    {
     "name": "stdout",
     "output_type": "stream",
     "text": [
      "Quack!\n",
      "Beep boop quack!\n"
     ]
    }
   ],
   "source": [
    "class Duck:\n",
    "    def quack(self):\n",
    "        print(\"Quack!\")\n",
    "\n",
    "class RobotDuck:\n",
    "    def quack(self):\n",
    "        print(\"Beep boop quack!\")\n",
    "\n",
    "def make_duck_quack(duck):\n",
    "    duck.quack()\n",
    "\n",
    "# Both Duck and RobotDuck can quack\n",
    "duck_instance = Duck()\n",
    "robot_duck_instance = RobotDuck()\n",
    "\n",
    "make_duck_quack(duck_instance)\n",
    "make_duck_quack(robot_duck_instance)\n"
   ]
  },
  {
   "cell_type": "markdown",
   "id": "2de53822-0867-4811-b3c1-74f3757150e0",
   "metadata": {},
   "source": [
    "In this example, both Duck and RobotDuck can be used interchangeably in the make_duck_quack function because they share a common method, quack.\n",
    "\n"
   ]
  },
  {
   "cell_type": "markdown",
   "id": "d0bcf00c-18b7-4038-a135-f85fbb97a4e6",
   "metadata": {},
   "source": [
    "### Pythonic Principles\n",
    "Pythonic code follows the idioms and conventions of the Python language. When designing classes, adhering to Pythonic principles makes your code more readable, maintainable, and in line with the Python community's expectations.\n",
    "\n",
    "### Key Pythonic Principles in Class Design\n",
    "- Readability Counts: Write code that is easy to read and understand.\n",
    "- Use of Naming Conventions: Follow PEP 8 naming conventions for classes, methods, and variables.\n",
    "- Consistency: Be consistent in your coding style and design choices.\n",
    "- EAFP (Easier to Ask for Forgiveness than Permission): Embrace the Pythonic - - philosophy of trying and handling exceptions rather than checking conditions.\n"
   ]
  },
  {
   "cell_type": "code",
   "execution_count": 59,
   "id": "14888b02-4ccf-41ec-9fed-5659fb9fa14a",
   "metadata": {
    "tags": []
   },
   "outputs": [
    {
     "name": "stdout",
     "output_type": "stream",
     "text": [
      "15\n"
     ]
    }
   ],
   "source": [
    "class PythonicCalculator:\n",
    "    def __init__(self, value=0):\n",
    "        self.value = value\n",
    "\n",
    "    def add(self, num):\n",
    "        self.value += num\n",
    "\n",
    "    def multiply(self, num):\n",
    "        self.value *= num\n",
    "\n",
    "# Usage of PythonicCalculator\n",
    "calc = PythonicCalculator()\n",
    "calc.add(5)\n",
    "calc.multiply(3)\n",
    "print(calc.value)  # Output: 15\n"
   ]
  },
  {
   "cell_type": "markdown",
   "id": "3524cd6d-b3f5-4ad9-8fdf-09f646b1bd32",
   "metadata": {},
   "source": [
    "### Dynamic Typing in Python\n",
    "Python is dynamically typed, meaning that the type of a variable is interpreted at runtime. This flexibility allows for more concise code but requires careful consideration when designing classes.\n",
    "\n",
    "### Benefits of Dynamic Typing\n",
    "- Flexibility: Variables can change types during runtime.\n",
    "- Conciseness: Code is often more concise without explicit type declarations.\n",
    "\n",
    "### Considerations for Dynamic Typing\n",
    "- Type Safety: While dynamic typing provides flexibility, it also requires careful handling to avoid unexpected behavior.\n",
    "- Documentation: Clearly document expected types and behaviors in your code.\n"
   ]
  },
  {
   "cell_type": "code",
   "execution_count": 60,
   "id": "48b16ced-0b93-4dad-942c-6d6c7742fb57",
   "metadata": {
    "tags": []
   },
   "outputs": [
    {
     "name": "stdout",
     "output_type": "stream",
     "text": [
      "[5, 'Hello', 3.14]\n"
     ]
    }
   ],
   "source": [
    "class DynamicList:\n",
    "    def __init__(self):\n",
    "        self.data = []\n",
    "\n",
    "    def add_element(self, element):\n",
    "        self.data.append(element)\n",
    "\n",
    "# Usage of DynamicList\n",
    "dynamic_list = DynamicList()\n",
    "dynamic_list.add_element(5)\n",
    "dynamic_list.add_element(\"Hello\")\n",
    "dynamic_list.add_element(3.14)\n",
    "\n",
    "print(dynamic_list.data)  # Output: [5, 'Hello', 3.14]\n"
   ]
  },
  {
   "cell_type": "markdown",
   "id": "699f0c44-d6f6-4625-ad32-ef28f545a991",
   "metadata": {},
   "source": [
    "In this example, the DynamicList class can store elements of different types in the same list, showcasing the flexibility of dynamic typing.\n",
    "\n"
   ]
  },
  {
   "cell_type": "markdown",
   "id": "1c7f8a5b-f18f-402b-9374-8deb965ac6de",
   "metadata": {
    "jp-MarkdownHeadingCollapsed": true,
    "tags": []
   },
   "source": [
    "## 9. Abstract Classes and Interfaces"
   ]
  },
  {
   "cell_type": "markdown",
   "id": "14db559e-08d5-4515-a1f6-44cacf3e5e70",
   "metadata": {
    "jp-MarkdownHeadingCollapsed": true,
    "tags": []
   },
   "source": [
    "### Abstract Classes using the ABC Module\n",
    "In Python, abstract classes are classes that cannot be instantiated on their own and are meant to be subclassed by other classes. The ABC (Abstract Base Class) module provides a way to define abstract classes."
   ]
  },
  {
   "cell_type": "code",
   "execution_count": 61,
   "id": "bc2d8dd6-8cf0-4c23-a473-3751ea37f76e",
   "metadata": {
    "tags": []
   },
   "outputs": [],
   "source": [
    "from abc import ABC, abstractmethod\n",
    "\n",
    "class Shape(ABC):\n",
    "    @abstractmethod\n",
    "    def area(self):\n",
    "        pass\n",
    "\n",
    "    @abstractmethod\n",
    "    def perimeter(self):\n",
    "        pass\n"
   ]
  },
  {
   "cell_type": "markdown",
   "id": "3354a2a0-0eb0-4829-bde6-eefb6d076152",
   "metadata": {},
   "source": [
    "In this example, the Shape class is an abstract class that defines two abstract methods, area and perimeter. Any class inheriting from Shape must provide concrete implementations for these methods.\n",
    "\n"
   ]
  },
  {
   "cell_type": "markdown",
   "id": "5cbfb7e8-0a20-4e38-be44-0dd610678461",
   "metadata": {},
   "source": [
    "### Abstract Methods and Their Role in Defining Interfaces\n",
    "Abstract methods are methods declared in an abstract class but don't have an implementation in the abstract class itself. They serve as placeholders for methods that must be implemented by concrete subclasses.\n",
    "\n"
   ]
  },
  {
   "cell_type": "code",
   "execution_count": 62,
   "id": "3117455a-144c-4589-b89e-0cca062f3c9d",
   "metadata": {
    "tags": []
   },
   "outputs": [],
   "source": [
    "class Animal(ABC):\n",
    "    @abstractmethod\n",
    "    def speak(self):\n",
    "        pass\n",
    "\n",
    "class Dog(Animal):\n",
    "    def speak(self):\n",
    "        return \"Woof!\"\n",
    "\n",
    "class Cat(Animal):\n",
    "    def speak(self):\n",
    "        return \"Meow!\"\n"
   ]
  },
  {
   "cell_type": "markdown",
   "id": "23226a8b-8330-46e6-b54f-8d53acbee24f",
   "metadata": {},
   "source": [
    "Here, the Animal abstract class declares an abstract method speak. Both Dog and Cat are concrete subclasses of Animal and must provide an implementation for the speak method.\n",
    "\n"
   ]
  },
  {
   "cell_type": "markdown",
   "id": "efa869ed-6c38-4410-be04-0d3a4a0237c8",
   "metadata": {},
   "source": [
    "### Implementing Abstract Classes for Code Structure\n",
    "Abstract classes help in organizing code by defining a common interface for a group of related classes. They ensure that certain methods are implemented by all subclasses, enforcing a consistent structure.\n",
    "\n"
   ]
  },
  {
   "cell_type": "code",
   "execution_count": 63,
   "id": "09f29ed7-bae1-4a75-98c0-6b05f9f70969",
   "metadata": {
    "tags": []
   },
   "outputs": [],
   "source": [
    "class DataSource(ABC):\n",
    "    @abstractmethod\n",
    "    def load_data(self):\n",
    "        pass\n",
    "\n",
    "    @abstractmethod\n",
    "    def preprocess_data(self):\n",
    "        pass\n",
    "\n",
    "class CSVSource(DataSource):\n",
    "    def load_data(self):\n",
    "        # Implementation for loading data from a CSV file\n",
    "        pass\n",
    "\n",
    "    def preprocess_data(self):\n",
    "        # Implementation for preprocessing CSV data\n",
    "        pass\n",
    "\n",
    "class DatabaseSource(DataSource):\n",
    "    def load_data(self):\n",
    "        # Implementation for loading data from a database\n",
    "        pass\n",
    "\n",
    "    def preprocess_data(self):\n",
    "        # Implementation for preprocessing database data\n",
    "        pass\n"
   ]
  },
  {
   "cell_type": "markdown",
   "id": "25765b60-bd19-4ddd-8b3d-7d74c2efc465",
   "metadata": {},
   "source": [
    "In this example, the DataSource abstract class defines a common interface for classes that load and preprocess data. CSVSource and DatabaseSource are concrete implementations of this interface, each providing specific implementations for loading and preprocessing data.\n",
    "\n"
   ]
  },
  {
   "cell_type": "markdown",
   "id": "3e67fbf7-0026-43e2-97ee-71fdf59dfe6e",
   "metadata": {
    "jp-MarkdownHeadingCollapsed": true,
    "tags": []
   },
   "source": [
    "## 10. Special Methods (Magic Methods)\n"
   ]
  },
  {
   "cell_type": "markdown",
   "id": "589a4256-460e-4d64-a629-89d058d0527b",
   "metadata": {},
   "source": [
    "In Python, special methods, often referred to as \"magic methods,\" provide a way to customize the behavior of classes. These methods are recognizable by their double underscores (e.g., __method__). By implementing these methods in your class, you can define how instances of that class behave in various situations.\n",
    "\n"
   ]
  },
  {
   "cell_type": "markdown",
   "id": "fc60b791-7b67-490a-b001-8dcad53d4c03",
   "metadata": {},
   "source": [
    "Special methods are an integral part of Python's object-oriented programming (OOP) paradigm. They allow you to define how instances of a class should respond to certain operations, making your code more expressive and intuitive.\n",
    "\n"
   ]
  },
  {
   "cell_type": "markdown",
   "id": "0d91d5bb-4ab0-4f81-baae-d3df69547005",
   "metadata": {},
   "source": [
    "### Commonly Used Magic Methods\n",
    "### __str__ - String Representation\n",
    "\n",
    "The __str__ method is invoked when you use the str() function or print() on an object. By implementing __str__, you can define a human-readable string representation of your object.\n",
    "\n"
   ]
  },
  {
   "cell_type": "code",
   "execution_count": 64,
   "id": "bdfc4541-b4a7-49a5-bccf-067af68030c7",
   "metadata": {
    "tags": []
   },
   "outputs": [],
   "source": [
    "class MyClass:\n",
    "    def __str__(self):\n",
    "        return \"This is an instance of MyClass\"\n"
   ]
  },
  {
   "cell_type": "markdown",
   "id": "20d9e072-7e9c-4ddd-8775-3b2f34e50f60",
   "metadata": {},
   "source": [
    "### __len__ - Length\n",
    "The __len__ method is called when you use the len() function on an object. It allows you to define the length of an object, which is particularly useful for collections."
   ]
  },
  {
   "cell_type": "code",
   "execution_count": 65,
   "id": "c4ade3e2-9ba8-44bb-a626-7e4e335a6da0",
   "metadata": {
    "tags": []
   },
   "outputs": [],
   "source": [
    "class MyCollection:\n",
    "    def __init__(self, items):\n",
    "        self.items = items\n",
    "\n",
    "    def __len__(self):\n",
    "        return len(self.items)\n"
   ]
  },
  {
   "cell_type": "raw",
   "id": "8a9985dd-06de-49eb-9cea-0a5898d1a8f9",
   "metadata": {},
   "source": [
    "Customizing Class Behavior Using Magic Methods\n",
    "\n",
    "Beyond __str__ and __len__, there are numerous other magic methods you can implement to customize your class's behavior. For example:\n",
    "\n",
    "__init__: The constructor method, called when an object is created.\n",
    "\n",
    "__eq__: Defines equality behavior for instances.\n",
    "\n",
    "__lt__, __le__, __gt__, __ge__: Implement comparison operators.\n",
    "\n",
    "__add__, __sub__, __mul__, etc.: Define arithmetic operations.\n"
   ]
  },
  {
   "cell_type": "code",
   "execution_count": 66,
   "id": "842cf131-2f8a-4525-b413-c6a3bd127988",
   "metadata": {
    "tags": []
   },
   "outputs": [],
   "source": [
    "class ComplexNumber:\n",
    "    def __init__(self, real, imag):\n",
    "        self.real = real\n",
    "        self.imag = imag\n",
    "\n",
    "    def __add__(self, other):\n",
    "        return ComplexNumber(self.real + other.real, self.imag + other.imag)\n",
    "\n",
    "    def __str__(self):\n",
    "        return f\"{self.real} + {self.imag}j\"\n"
   ]
  },
  {
   "cell_type": "markdown",
   "id": "83ede074-5976-4db9-8484-cba6b4a58688",
   "metadata": {
    "jp-MarkdownHeadingCollapsed": true,
    "tags": []
   },
   "source": [
    "## 11. Decorators in Class Methods\n"
   ]
  },
  {
   "cell_type": "markdown",
   "id": "b8a9cfd7-11f8-4cfe-bdc9-4a48f37b8ab8",
   "metadata": {},
   "source": [
    "In Python, decorators are a powerful tool for modifying or enhancing the behavior of functions or methods. Class methods, which are bound to a class rather than an instance, can also benefit from decorators to add additional functionality. Decorators are applied using the @decorator syntax.\n",
    "\n"
   ]
  },
  {
   "cell_type": "code",
   "execution_count": 67,
   "id": "0160f82a-3489-441d-a5fb-3865ae4dc6a7",
   "metadata": {
    "tags": []
   },
   "outputs": [],
   "source": [
    "class MyClass:\n",
    "    @classmethod\n",
    "    def my_class_method(cls):\n",
    "        # Class method logic\n",
    "        pass\n"
   ]
  },
  {
   "cell_type": "markdown",
   "id": "197634bf-5926-4cae-8e63-bd7c9e7c9d21",
   "metadata": {},
   "source": [
    "In the above example, @classmethod is a decorator indicating that my_class_method is a class method. This allows the method to be called on the class itself, rather than an instance.\n",
    "\n"
   ]
  },
  {
   "cell_type": "markdown",
   "id": "be3467a3-014a-471e-901f-7c568eb72fe5",
   "metadata": {},
   "source": [
    "### Common Decorators for Class Methods\n",
    "\n",
    "### @staticmethod:\n",
    "\n",
    "Marks a method as a static method, which is a method bound to the class and not the instance.\n",
    "Useful when a method doesn't access or modify class or instance-specific data.\n"
   ]
  },
  {
   "cell_type": "code",
   "execution_count": 68,
   "id": "73396770-741f-4b8a-b1c4-ed879f8ed63a",
   "metadata": {
    "tags": []
   },
   "outputs": [],
   "source": [
    "class MyClass:\n",
    "    @staticmethod\n",
    "    def my_static_method():\n",
    "        # Static method logic\n",
    "        pass\n"
   ]
  },
  {
   "cell_type": "markdown",
   "id": "fa4b817c-4e33-45a0-94ed-e5807dc00ec5",
   "metadata": {},
   "source": [
    "### @classmethod:\n",
    "\n",
    "- Identifies a method as a class method, allowing it to access and modify class-level attributes.\n",
    "- Takes the class itself (cls) as the first parameter."
   ]
  },
  {
   "cell_type": "code",
   "execution_count": 69,
   "id": "8c3fe741-f4d8-439f-aaba-bb7ff60ce8ed",
   "metadata": {
    "tags": []
   },
   "outputs": [],
   "source": [
    "class MyClass:\n",
    "    class_variable = 42\n",
    "\n",
    "    @classmethod\n",
    "    def modify_class_variable(cls, new_value):\n",
    "        cls.class_variable = new_value\n"
   ]
  },
  {
   "cell_type": "markdown",
   "id": "aa58a049-2bdf-438d-8a75-e1a66be18e9e",
   "metadata": {},
   "source": [
    "### Enhancing Class Functionality with Decorators\n",
    "Decorators provide a clean and modular way to enhance class functionality without modifying the original code. They allow you to extend or modify the behavior of class methods, making your code more readable and maintainable.\n",
    "\n",
    "Example: Creating a decorator to measure the execution time of a class method.\n",
    "\n"
   ]
  },
  {
   "cell_type": "code",
   "execution_count": 71,
   "id": "ef79ce50-f1ed-4609-bdf2-0c29a8de5bb3",
   "metadata": {
    "tags": []
   },
   "outputs": [
    {
     "name": "stdout",
     "output_type": "stream",
     "text": [
      "time_consuming_method took 2.009890079498291 seconds to execute.\n"
     ]
    }
   ],
   "source": [
    "import time\n",
    "\n",
    "def measure_execution_time(method):\n",
    "    def wrapper(*args, **kwargs):\n",
    "        start_time = time.time()\n",
    "        result = method(*args, **kwargs)\n",
    "        end_time = time.time()\n",
    "        print(f\"{method.__name__} took {end_time - start_time} seconds to execute.\")\n",
    "        return result\n",
    "    return wrapper\n",
    "\n",
    "class MyClass:\n",
    "    @measure_execution_time\n",
    "    def time_consuming_method(self):\n",
    "        # Simulating a time-consuming operation\n",
    "        time.sleep(2)\n",
    "\n",
    "# Creating an instance of MyClass\n",
    "my_instance = MyClass()\n",
    "\n",
    "# Calling the decorated method\n",
    "my_instance.time_consuming_method()\n"
   ]
  },
  {
   "cell_type": "markdown",
   "id": "2e0511fc-c56e-4f17-afa4-f636fa5018de",
   "metadata": {},
   "source": [
    "In this example, the measure_execution_time decorator measures the time taken by the time-time_consuming_method to execute. The decorator wraps the original method, providing additional functionality without modifying the method's code directly.\n",
    "\n"
   ]
  },
  {
   "cell_type": "markdown",
   "id": "1813f4b1-27ac-466c-b487-7348201908c0",
   "metadata": {
    "jp-MarkdownHeadingCollapsed": true,
    "tags": []
   },
   "source": [
    "## 12. Real-World Examples and Best Practices\n"
   ]
  },
  {
   "cell_type": "markdown",
   "id": "aba560d3-5b35-4617-a3c3-4ac7ad975c14",
   "metadata": {},
   "source": [
    "### Case Studies of Well-Designed Python Classes"
   ]
  },
  {
   "cell_type": "markdown",
   "id": "a08e4619-886b-4a9d-a170-5c002a255acb",
   "metadata": {
    "tags": []
   },
   "source": [
    "### 1. Database Connection Class\n",
    "Consider a scenario where you are designing a class for handling database connections. A well-designed DatabaseConnection class might include:\n",
    "\n",
    "Attributes:\n",
    "\n",
    "- Connection parameters (host, port, username, password).\n",
    "- Connection status.\n",
    "\n",
    "Methods:\n",
    "\n",
    "- connect: Establishes a connection to the database.\n",
    "- disconnect: Closes the database connection.\n",
    "- execute_query: Executes SQL queries.\n",
    "\n",
    "This design promotes encapsulation, allowing users to interact with the database through a clean and intuitive interface."
   ]
  },
  {
   "cell_type": "code",
   "execution_count": null,
   "id": "80970633-30ad-476a-b04d-03afd2311207",
   "metadata": {},
   "outputs": [],
   "source": [
    "import sqlite3\n",
    "\n",
    "class DatabaseConnection:\n",
    "    def __init__(self, host, port, username, password, database_name):\n",
    "        # Attributes for connection parameters\n",
    "        self.host = host\n",
    "        self.port = port\n",
    "        self.username = username\n",
    "        self.password = password\n",
    "        self.database_name = database_name\n",
    "\n",
    "        # Attribute for connection status\n",
    "        self.is_connected = False\n",
    "\n",
    "        # Database connection object\n",
    "        self.connection = None\n",
    "\n",
    "    def connect(self):\n",
    "        # Method to establish a connection to the database\n",
    "        try:\n",
    "            # Create a connection to the database\n",
    "            self.connection = sqlite3.connect(\n",
    "                f\"sqlite://{self.host}:{self.port}/{self.database_name}\"\n",
    "            )\n",
    "            self.is_connected = True\n",
    "            print(\"Connected to the database.\")\n",
    "        except Exception as e:\n",
    "            print(f\"Connection failed: {e}\")\n",
    "\n",
    "    def disconnect(self):\n",
    "        # Method to close the database connection\n",
    "        if self.is_connected:\n",
    "            self.connection.close()\n",
    "            self.is_connected = False\n",
    "            print(\"Disconnected from the database.\")\n",
    "        else:\n",
    "            print(\"Not connected to any database.\")\n",
    "\n",
    "    def execute_query(self, query):\n",
    "        # Method to execute SQL queries\n",
    "        if self.is_connected:\n",
    "            try:\n",
    "                cursor = self.connection.cursor()\n",
    "                cursor.execute(query)\n",
    "                result = cursor.fetchall()\n",
    "                cursor.close()\n",
    "                print(\"Query executed successfully.\")\n",
    "                return result\n",
    "            except Exception as e:\n",
    "                print(f\"Query execution failed: {e}\")\n",
    "                return None\n",
    "        else:\n",
    "            print(\"Not connected to any database. Cannot execute query.\")\n",
    "            return None\n",
    "\n",
    "# Example usage:\n",
    "# Create an instance of DatabaseConnection\n",
    "db_connection = DatabaseConnection(\n",
    "    host=\"localhost\",\n",
    "    port=5432,\n",
    "    username=\"user\",\n",
    "    password=\"password\",\n",
    "    database_name=\"my_database\",\n",
    ")\n",
    "\n",
    "# Connect to the database\n",
    "db_connection.connect()\n",
    "\n",
    "# Execute a sample query\n",
    "result = db_connection.execute_query(\"SELECT * FROM my_table\")\n",
    "\n",
    "# Disconnect from the database\n",
    "db_connection.disconnect()\n"
   ]
  },
  {
   "cell_type": "markdown",
   "id": "5eeadff8-9c9a-4c63-b9ca-9ab4a8fd6954",
   "metadata": {},
   "source": [
    "In this example, we've created a DatabaseConnection class with attributes representing connection parameters and status. The methods connect, disconnect, and execute_query provide a clean and intuitive interface for interacting with the database. The example uses SQLite for simplicity, but you can adapt the code to work with other database systems.\n"
   ]
  },
  {
   "cell_type": "code",
   "execution_count": null,
   "id": "b86b035b-ee7d-4867-a54d-3a85a170cf14",
   "metadata": {},
   "outputs": [],
   "source": [
    "import psycopg2\n",
    "\n",
    "class DatabaseConnection:\n",
    "    def __init__(self, host, port, username, password, database_name):\n",
    "        # Attributes for connection parameters\n",
    "        self.host = host\n",
    "        self.port = port\n",
    "        self.username = username\n",
    "        self.password = password\n",
    "        self.database_name = database_name\n",
    "\n",
    "        # Attribute for connection status\n",
    "        self.is_connected = False\n",
    "\n",
    "        # Database connection object\n",
    "        self.connection = None\n",
    "\n",
    "    def connect(self):\n",
    "        # Method to establish a connection to the PostgreSQL database\n",
    "        try:\n",
    "            # Create a connection to the database\n",
    "            self.connection = psycopg2.connect(\n",
    "                host=self.host,\n",
    "                port=self.port,\n",
    "                user=self.username,\n",
    "                password=self.password,\n",
    "                database=self.database_name,\n",
    "            )\n",
    "            self.is_connected = True\n",
    "            print(\"Connected to the PostgreSQL database.\")\n",
    "        except Exception as e:\n",
    "            print(f\"Connection failed: {e}\")\n",
    "\n",
    "    def disconnect(self):\n",
    "        # Method to close the database connection\n",
    "        if self.is_connected:\n",
    "            self.connection.close()\n",
    "            self.is_connected = False\n",
    "            print(\"Disconnected from the PostgreSQL database.\")\n",
    "        else:\n",
    "            print(\"Not connected to any database.\")\n",
    "\n",
    "    def execute_query(self, query):\n",
    "        # Method to execute SQL queries\n",
    "        if self.is_connected:\n",
    "            try:\n",
    "                cursor = self.connection.cursor()\n",
    "                cursor.execute(query)\n",
    "                result = cursor.fetchall()\n",
    "                cursor.close()\n",
    "                print(\"Query executed successfully.\")\n",
    "                return result\n",
    "            except Exception as e:\n",
    "                print(f\"Query execution failed: {e}\")\n",
    "                return None\n",
    "        else:\n",
    "            print(\"Not connected to any database. Cannot execute query.\")\n",
    "            return None\n",
    "\n",
    "# Example usage:\n",
    "# Create an instance of DatabaseConnection\n",
    "db_connection = DatabaseConnection(\n",
    "    host=\"localhost\",\n",
    "    port=5432,\n",
    "    username=\"user\",\n",
    "    password=\"password\",\n",
    "    database_name=\"my_database\",\n",
    ")\n",
    "\n",
    "# Connect to the PostgreSQL database\n",
    "db_connection.connect()\n",
    "\n",
    "# Execute a sample query\n",
    "result = db_connection.execute_query(\"SELECT * FROM my_table\")\n",
    "\n",
    "# Disconnect from the PostgreSQL database\n",
    "db_connection.disconnect()\n"
   ]
  },
  {
   "cell_type": "markdown",
   "id": "3e56dc49-65e0-4331-8534-5d1262de4272",
   "metadata": {},
   "source": [
    "### 2. GUI Widget Class\n",
    "In a graphical user interface (GUI) application, a well-designed Widget class might have:\n",
    "\n",
    "Attributes:\n",
    "\n",
    "- Visual properties (size, color, position).\n",
    "- Event callbacks.\n",
    "\n",
    "Methods:\n",
    "\n",
    "- render: Draws the widget on the screen.\n",
    "- handle_event: Responds to user interactions.\n",
    "\n",
    "By encapsulating widget functionality within a class, you create reusable and modular components for building complex GUIs."
   ]
  },
  {
   "cell_type": "code",
   "execution_count": 84,
   "id": "576f9aee-840f-41ae-9a20-45faeb816476",
   "metadata": {
    "tags": []
   },
   "outputs": [],
   "source": [
    "# Lets Create a simple Calculator\n",
    "import tkinter as tk\n",
    "\n",
    "class CalculatorWidget:\n",
    "    def __init__(self, root):\n",
    "        # Attributes for visual properties\n",
    "        self.size = \"400x600\"\n",
    "        self.color = \"#4CAF50\"  # Green color\n",
    "        self.position = \"+100+100\"\n",
    "\n",
    "        # Event callbacks\n",
    "        self.result_var = tk.StringVar()\n",
    "        self.expression = \"\"\n",
    "\n",
    "        # Set up the main window\n",
    "        root.geometry(self.size)\n",
    "        root.title(\"Calculator\")\n",
    "        root.configure(bg=self.color)\n",
    "        root.geometry(self.size + self.position)\n",
    "\n",
    "        # Create and place the result display\n",
    "        result_display = tk.Entry(root, textvariable=self.result_var, font=(\"Arial\", 24), bd=10, relief=\"ridge\", justify=\"right\", bg=\"#f2f2f2\")\n",
    "        result_display.grid(row=0, column=0, columnspan=4, sticky=\"nsew\")\n",
    "\n",
    "        # Define button layout and labels\n",
    "        button_layout = [\n",
    "            (\"7\", 1, 0), (\"8\", 1, 1), (\"9\", 1, 2), (\"/\", 1, 3),\n",
    "            (\"4\", 2, 0), (\"5\", 2, 1), (\"6\", 2, 2), (\"*\", 2, 3),\n",
    "            (\"1\", 3, 0), (\"2\", 3, 1), (\"3\", 3, 2), (\"-\", 3, 3),\n",
    "            (\"0\", 4, 0), (\".\", 4, 1), (\"=\", 4, 2), (\"+\", 4, 3)\n",
    "        ]\n",
    "\n",
    "        # Create and place the calculator buttons\n",
    "        for (text, row, column) in button_layout:\n",
    "            button = tk.Button(root, text=text, font=(\"Arial\", 18), bg=\"#e6e6e6\", command=lambda t=text: self.on_button_click(t))\n",
    "            button.grid(row=row, column=column, sticky=\"nsew\")\n",
    "\n",
    "        # Configure row and column weights for resizing\n",
    "        for i in range(5):\n",
    "            root.grid_rowconfigure(i, weight=1)\n",
    "            root.grid_columnconfigure(i, weight=1)\n",
    "\n",
    "    def on_button_click(self, button_text):\n",
    "        if button_text == \"=\":\n",
    "            try:\n",
    "                result = str(eval(self.expression))\n",
    "                self.result_var.set(result)\n",
    "                self.expression = result\n",
    "            except Exception as e:\n",
    "                self.result_var.set(\"Error\")\n",
    "                self.expression = \"\"\n",
    "        else:\n",
    "            self.expression += button_text\n",
    "            self.result_var.set(self.expression)\n",
    "\n",
    "# Main application\n",
    "if __name__ == \"__main__\":\n",
    "    root = tk.Tk()\n",
    "    calculator = CalculatorWidget(root)\n",
    "    root.mainloop()\n"
   ]
  },
  {
   "cell_type": "markdown",
   "id": "0c87b833-280c-4fdf-92c3-9b07bf52572d",
   "metadata": {},
   "source": [
    "### Best Practices for Class Design and Organization\n",
    "1. __Single Responsibility Principle (SRP):__ Follow the SRP to ensure that each class has a single responsibility. For example, a class handling user authentication should not also be responsible for sending emails. Split such functionality into separate classes.\n",
    "\n",
    "2. __Consistent Naming Conventions:__ Adopt consistent naming conventions for classes, methods, and attributes. Use clear and descriptive names that convey the purpose of each element. This enhances code readability.\n",
    "\n",
    "3. __Use of Properties:__ Leverage properties to create getter and setter methods for class attributes. This allows controlled access to attribute values and facilitates future changes without affecting external code."
   ]
  },
  {
   "cell_type": "markdown",
   "id": "2688d4d7-28c9-4fb7-a6ed-39bae27a2347",
   "metadata": {},
   "source": [
    "### Tips for Writing Maintainable and Readable Class-Based Code\n",
    "1. __Documentation:__ Include docstrings for classes, methods, and attributes. Clearly document the purpose, parameters, and return values. This helps developers understand how to use the class without delving into the implementation details.\n",
    "\n",
    "2. __Code Consistency:__ Adhere to consistent coding style and formatting throughout your class-based code. Consistency improves collaboration and makes the codebase more maintainable.\n",
    "\n",
    "3. __Unit Testing:__ Write unit tests for your classes to ensure that they behave as expected. This practice promotes code reliability and allows for easier refactoring or modifications in the future.\n",
    "\n",
    "4. __Maintainability Over Cleverness:__ Prioritize code maintainability over clever, intricate solutions. Strive for simplicity and clarity in your class design to make it easy for others (and yourself) to understand and maintain the code.\n",
    "\n",
    "5. __Version Control:__ Use version control systems effectively. Regularly commit changes, provide meaningful commit messages, and use branches for experimental features or major changes. This ensures a history of your class development and facilitates collaboration with other developers.\n",
    "\n"
   ]
  }
 ],
 "metadata": {
  "kernelspec": {
   "display_name": "Python 3 (ipykernel)",
   "language": "python",
   "name": "python3"
  },
  "language_info": {
   "codemirror_mode": {
    "name": "ipython",
    "version": 3
   },
   "file_extension": ".py",
   "mimetype": "text/x-python",
   "name": "python",
   "nbconvert_exporter": "python",
   "pygments_lexer": "ipython3",
   "version": "3.8.16"
  }
 },
 "nbformat": 4,
 "nbformat_minor": 5
}
